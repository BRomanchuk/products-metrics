{
 "cells": [
  {
   "cell_type": "markdown",
   "id": "65f9f645-5313-40f7-81ba-8ea40a53c594",
   "metadata": {},
   "source": [
    "### Overview of the dataset:\n",
    "The attached dataset is a baseline – aggregated data holding key performance metrics across different selling points for different products. Each product can be represented in different selling points (DistributionUnit) and have different prices depending on where is being sold.\n",
    "\n",
    "### Explanation of some fields:\n",
    "\n",
    "\n",
    "BaselineDetailID – Id of the product in the DistributionUnit\n",
    "\n",
    "BaselineID – ID of current baseline.\n",
    "\n",
    "ProductID – General ID of the Product\n",
    "\n",
    "DistributionUnit – sales channel.\n",
    "\n",
    "NSRperUC -  Net Sales Revenue Per Unit Case, presented only for TCCC Manufacturer.\n",
    "\n",
    "COGS – Cost of goods sold\n",
    "\n",
    "ExitRate – Percentage of the volume that will be lost if the product is not represented in the store\n",
    "\n",
    "### Overview of the task:\n",
    "Create an executive summary for a provided baseline that can be shown to a market owner to help him better understand the market structure and TCCC's position. Below is the list of the visualizations that might be helpful, but this list is not a hard restriction.\n",
    "\n",
    "### High-level aggregations:\n",
    "\n",
    "- top Manufacturers\n",
    "\n",
    "- top Brands by Volume and Manufacturer\n",
    "\n",
    "- top Categories by Volume\n",
    "\n",
    "- top Brand PackSize by Channel and Manufacturer by Volume for all, by Revenue for TCCC\n",
    "\n",
    "### Competitor selection:\n",
    "\n",
    "- for the top 3 TCCC brands: the top 3 SKUs from each brand present the most suitable competitor SKU.\n",
    "Describe what criteria are used to define competitor SKU and why. How do TCCC SKUs perform in contrast to competitor SKUs?\n",
    "\n",
    "### Product Performance:\n",
    "\n",
    "- what are the key products that must always be presented in the store to avoid loss of sales? (Hist Exit Rates)\n",
    "- what are the key products for which price change can lead to an unprofitable loss of sales? (Hint: Elasticity)\n",
    "\n",
    "The result should be presented in a jupyter-notebook with clear, interactive visualizations. "
   ]
  },
  {
   "cell_type": "code",
   "execution_count": null,
   "id": "7e1d1542-f685-4264-b4df-59e8d16270d4",
   "metadata": {},
   "outputs": [],
   "source": [
    "import numpy as np\n",
    "import pandas as pd\n",
    "import matplotlib.pyplot as plt"
   ]
  },
  {
   "cell_type": "code",
   "execution_count": null,
   "id": "50a288ce-df61-4c95-8149-aeff8de3abf9",
   "metadata": {},
   "outputs": [],
   "source": [
    "df = pd.read_excel('products-metrics/DemoBaseline.xlsx')\n",
    "df.head()"
   ]
  },
  {
   "cell_type": "code",
   "execution_count": null,
   "id": "c3125b4b-0fd9-446f-86e9-b00d6c488c25",
   "metadata": {
    "tags": []
   },
   "outputs": [],
   "source": [
    "df.shape"
   ]
  },
  {
   "cell_type": "code",
   "execution_count": null,
   "id": "72cd4afe-9c65-4e7b-9cc1-955498beed2a",
   "metadata": {},
   "outputs": [],
   "source": [
    "df.columns"
   ]
  },
  {
   "cell_type": "markdown",
   "id": "7082a846-9a72-451d-aab7-9a2fb3d382ff",
   "metadata": {},
   "source": [
    "# High-level aggregations:\n",
    "\n",
    "### - top Manufacturers\n"
   ]
  },
  {
   "cell_type": "code",
   "execution_count": null,
   "id": "13134417-febb-4562-9f92-2a40933a8e5a",
   "metadata": {},
   "outputs": [],
   "source": [
    "df['Manufacturer'].value_counts().head()"
   ]
  },
  {
   "cell_type": "markdown",
   "id": "44526968-662c-46de-96a8-c6b458121f00",
   "metadata": {},
   "source": [
    "### - top Brands by Volume and Manufacturer\n"
   ]
  },
  {
   "cell_type": "code",
   "execution_count": null,
   "id": "9ce1a1b2-edd9-4d18-af18-36cb6310db1c",
   "metadata": {},
   "outputs": [],
   "source": [
    "brand_manuf = df.groupby(['Manufacturer', 'Brand']).agg({'Volume': 'sum'}).reset_index().sort_values(by='Volume', ascending=False)\n",
    "brand_manuf.head()"
   ]
  },
  {
   "cell_type": "markdown",
   "id": "01b4d546-4887-4906-a979-49abb3b7913e",
   "metadata": {},
   "source": [
    "\n",
    "### - top Categories by Volume\n"
   ]
  },
  {
   "cell_type": "code",
   "execution_count": null,
   "id": "468d1403-f4b4-4aee-b1c8-55181b22d35b",
   "metadata": {},
   "outputs": [],
   "source": [
    "categ = df.groupby('Category').agg({'Volume': 'sum'}).reset_index().sort_values(by='Volume', ascending=False)\n",
    "categ.head()"
   ]
  },
  {
   "cell_type": "markdown",
   "id": "32c5e739-5c9c-403e-8301-c3fab754bf02",
   "metadata": {},
   "source": [
    "### - top Brand PackSize by Channel and Manufacturer by Volume for all, by Revenue for TCCC"
   ]
  },
  {
   "cell_type": "code",
   "execution_count": null,
   "id": "1b9f33e6-4b83-41e0-97d9-92bbb7bd1021",
   "metadata": {},
   "outputs": [],
   "source": [
    "# add revenue column\n",
    "df['Revenue'] = df['Price'] * df['Volume']\n",
    "# define DataFrame of TCCC\n",
    "tccc_df = df[df['Manufacturer'] == \"TCCC\"]"
   ]
  },
  {
   "cell_type": "code",
   "execution_count": null,
   "id": "b0a733ad-b595-44e6-b50e-64f02c82ba14",
   "metadata": {},
   "outputs": [],
   "source": [
    "# group the TCCC dataframe by PackSize, Brand, Channel and calculate the sum of Revenue\n",
    "tccc_packsizes = df.groupby(['PackSize', 'Brand', 'DistributionUnit']) \\\n",
    "                  .agg({'Revenue': 'sum'}) \\\n",
    "                  .reset_index()\n",
    "tccc_packsizes.head(3)"
   ]
  },
  {
   "cell_type": "code",
   "execution_count": null,
   "id": "047ed6f0-7ac8-408b-8733-41594ccef4d6",
   "metadata": {},
   "outputs": [],
   "source": [
    "# group the dataframe by PackSize, Brand, Channel and Manufacturer and calculate the sum of Volume\n",
    "packsizes = df.groupby(['PackSize', 'Brand', 'DistributionUnit', 'Manufacturer']) \\\n",
    "              .agg({'Volume': 'sum'}) \\\n",
    "              .reset_index()\n",
    "packsizes.head(3)"
   ]
  },
  {
   "cell_type": "code",
   "execution_count": null,
   "id": "f74cbaf4-05c2-4d2e-ac5d-0b386d13eb4c",
   "metadata": {},
   "outputs": [],
   "source": [
    "# get top TCCC PackSizes by Revenue\n",
    "tccc_top_ps = tccc_packsizes.groupby(['Brand', 'DistributionUnit']) \\\n",
    "                  .agg({'Revenue': 'max'}) \\\n",
    "                  .reset_index()\n",
    "tccc_top_ps.head(3)"
   ]
  },
  {
   "cell_type": "code",
   "execution_count": null,
   "id": "c06253e9-0d49-4b74-bd27-4c76fd138205",
   "metadata": {},
   "outputs": [],
   "source": [
    "# get top PackSizes by Volume\n",
    "top_ps = packsizes.groupby(['Brand', 'DistributionUnit', 'Manufacturer']) \\\n",
    "                  .agg({'Volume': 'max'}) \\\n",
    "                  .reset_index()\n",
    "top_ps.head(3)"
   ]
  },
  {
   "cell_type": "code",
   "execution_count": null,
   "id": "110a3182-91e5-4cc2-82ce-f10afad604b3",
   "metadata": {},
   "outputs": [],
   "source": [
    "# join TCCC tables to get PackSize\n",
    "tccc_pack_size = tccc_top_ps.merge(tccc_packsizes, on='Revenue', suffixes=('_', '')).loc[:, 'Revenue':'DistributionUnit']\n",
    "tccc_pack_size.head()"
   ]
  },
  {
   "cell_type": "code",
   "execution_count": null,
   "id": "75d7b435-c9d0-4dfc-ad95-35ee31e5c83a",
   "metadata": {},
   "outputs": [],
   "source": [
    "# join tables to get PackSize\n",
    "pack_size = top_ps.merge(packsizes, on='Volume', suffixes=('_', '')).loc[:, 'Volume':'Manufacturer']\n",
    "pack_size.head()"
   ]
  },
  {
   "cell_type": "markdown",
   "id": "d1ed4a34-6606-4ad7-bedd-bec87735fcb2",
   "metadata": {},
   "source": [
    "### - Top Manufacturer by Volume"
   ]
  },
  {
   "cell_type": "code",
   "execution_count": null,
   "id": "eddc3b4f-3026-494e-a474-08720a28fcce",
   "metadata": {},
   "outputs": [],
   "source": [
    "manuf = df.groupby(['Manufacturer']).agg({'Volume': 'sum'}).reset_index().sort_values(by='Volume', ascending=False)\n",
    "manuf.head()"
   ]
  },
  {
   "cell_type": "markdown",
   "id": "a9b0ab92-e045-4fb2-97a3-cc5a25f32140",
   "metadata": {},
   "source": [
    "# Competitor selection:\n",
    "\n",
    "- for the top 3 TCCC brands: the top 3 SKUs from each brand present the most suitable competitor SKU.\n",
    "Describe what criteria are used to define competitor SKU and why. How do TCCC SKUs perform in contrast to competitor SKUs?"
   ]
  },
  {
   "cell_type": "markdown",
   "id": "13c61aba-45d8-44ec-ba89-3622e29e1a2a",
   "metadata": {},
   "source": [
    "## Top 3 TCCC brands \n",
    "Brands are chosen by Volume"
   ]
  },
  {
   "cell_type": "code",
   "execution_count": null,
   "id": "9aaba7e5-1db9-4a50-9197-9acf88f1b745",
   "metadata": {},
   "outputs": [],
   "source": [
    "tccc_top = df[df['Manufacturer'] == 'TCCC'].groupby('Brand') \\\n",
    "            .agg({'Volume': 'sum'}) \\\n",
    "            .sort_values(by='Volume', ascending=False) \\\n",
    "            .reset_index() \\\n",
    "            .head(3)"
   ]
  },
  {
   "cell_type": "code",
   "execution_count": null,
   "id": "e5b0246d-4b51-4ec5-9f7a-9b31a477f78c",
   "metadata": {},
   "outputs": [],
   "source": [
    "tccc_top"
   ]
  },
  {
   "cell_type": "markdown",
   "id": "5d816f31-b6cf-4af2-88eb-eb12c8d0431a",
   "metadata": {},
   "source": [
    "## Top products for each top brand of TCCC\n",
    "Products are also taken by Volume"
   ]
  },
  {
   "cell_type": "code",
   "execution_count": null,
   "id": "0800a4d0-9a88-4d53-96e3-877021404552",
   "metadata": {},
   "outputs": [],
   "source": [
    "tccc_top_products = {}  # dict with top TCCC brands : dataframe with top products by Volume\n",
    "for brand in tccc_top['Brand']:\n",
    "    tccc_top_products[brand] = df[df['Brand'] == brand].groupby(['ProductID', 'Category']) \\\n",
    "                            .agg({'Volume': 'sum'}) \\\n",
    "                            .sort_values(by='Volume', ascending=False) \\\n",
    "                            .reset_index() \\\n",
    "                            .head(3)\n",
    "tccc_top_products"
   ]
  },
  {
   "cell_type": "markdown",
   "id": "0cff1483-4dd2-460a-8ec1-1cff55bfc53e",
   "metadata": {},
   "source": [
    "### DataFrame of TCCC competitors"
   ]
  },
  {
   "cell_type": "code",
   "execution_count": null,
   "id": "78d220f3-906c-4d93-aba7-b78e372779fd",
   "metadata": {},
   "outputs": [],
   "source": [
    "no_tccc_df = df[(df['Manufacturer'] != 'TCCC')]\n",
    "no_tccc_df.head(3)"
   ]
  },
  {
   "cell_type": "markdown",
   "id": "98317a12-dbb0-409d-bf74-f2bf003792e6",
   "metadata": {},
   "source": [
    "## Top competitors for COCA COLA SKUs\n",
    "Since all COCA COLA (CC) products are in the same category, the competitors' products are the same for each CC product"
   ]
  },
  {
   "cell_type": "code",
   "execution_count": null,
   "id": "7619ff8c-4f03-4bcb-b701-24cacbc9ae02",
   "metadata": {},
   "outputs": [],
   "source": [
    "tccc_top_products['COCA COLA']"
   ]
  },
  {
   "cell_type": "code",
   "execution_count": null,
   "id": "d0c3f789-1c40-4857-ad6b-656c1032960a",
   "metadata": {},
   "outputs": [],
   "source": [
    "# get products that are in the same category that CC SKUs, and get top-3 of them by Volume\n",
    "cc_competitors = no_tccc_df[(no_tccc_df['Brand'] != 'COCA COLA') \n",
    "                           & (no_tccc_df['Category'] == 'COLAS')].groupby('ProductID') \\\n",
    "                            .agg({'Volume': 'sum'}) \\\n",
    "                            .sort_values(by='Volume', ascending=False) \\\n",
    "                            .reset_index() \\\n",
    "                            .head(3)\n",
    "cc_competitors"
   ]
  },
  {
   "cell_type": "code",
   "execution_count": null,
   "id": "b908e795-15c3-41b5-939f-709a14f36438",
   "metadata": {},
   "outputs": [],
   "source": [
    "# list of COCA COLA competitor brands\n",
    "no_tccc_df[no_tccc_df['ProductID'].isin(cc_competitors['ProductID'])]['Brand'].unique()"
   ]
  },
  {
   "cell_type": "markdown",
   "id": "a007c6b3-d53e-473d-91b0-d5525e3c73c3",
   "metadata": {},
   "source": [
    "As we see, the only competitor to COCA COLA products is PEPSI COLA brand. \n",
    "<br>The volume of PEPSI COLA products is much (~ 1.5-40 times) less than the volume of COCA COLA products."
   ]
  },
  {
   "cell_type": "markdown",
   "id": "bbcc3599-3ba9-4a1a-8ada-216ae41a959c",
   "metadata": {},
   "source": [
    "## Top competitors for CIEL SKUs\n",
    "Since all CIEL products are in the same category, the competitors' products are the same for each CIEL product"
   ]
  },
  {
   "cell_type": "code",
   "execution_count": null,
   "id": "256fc6c7-b4cb-4b8d-add8-ab97c2180c64",
   "metadata": {},
   "outputs": [],
   "source": [
    "tccc_top_products['CIEL']"
   ]
  },
  {
   "cell_type": "code",
   "execution_count": null,
   "id": "40ac034e-e612-4457-b806-7cf8983ad8fc",
   "metadata": {},
   "outputs": [],
   "source": [
    "# get products that are in the same category that CIEL SKUs, and get top-3 of them by Volume\n",
    "ciel_competitors = no_tccc_df[(no_tccc_df['Brand'] != 'CIEL') \n",
    "                               & (no_tccc_df['Category'] == 'AGUA EMBOTELLADA')].groupby('ProductID') \\\n",
    "                                .agg({'Volume': 'sum'}) \\\n",
    "                                .sort_values(by='Volume', ascending=False) \\\n",
    "                                .reset_index() \\\n",
    "                                .head(3)\n",
    "ciel_competitors"
   ]
  },
  {
   "cell_type": "code",
   "execution_count": null,
   "id": "d75b6f73-db0d-4bf9-b47c-81a5b51467c3",
   "metadata": {},
   "outputs": [],
   "source": [
    "# list of CIEL competitor brands\n",
    "no_tccc_df[no_tccc_df['ProductID'].isin(ciel_competitors['ProductID'])]['Brand'].unique()"
   ]
  },
  {
   "cell_type": "markdown",
   "id": "2520f776-7832-49e9-899d-5a2b5e96109d",
   "metadata": {},
   "source": [
    "CIEL competitors are E-PURA and BONAFONT.\n",
    "<br>CIEL competitors are almost on the same level based on Volume metric."
   ]
  },
  {
   "cell_type": "markdown",
   "id": "23e085b0-8885-45d0-937a-ff49757bedca",
   "metadata": {},
   "source": [
    "## Top competitors for SPRITE SKUs\n",
    "Since all SPRITE products are in the same category, the competitors' products are the same for each SPRITE product"
   ]
  },
  {
   "cell_type": "code",
   "execution_count": null,
   "id": "b9f901c2-ffcb-4093-b2ff-46a248cba348",
   "metadata": {},
   "outputs": [],
   "source": [
    "tccc_top_products['SPRITE']"
   ]
  },
  {
   "cell_type": "code",
   "execution_count": null,
   "id": "75a1df00-2ae7-45db-a49e-22028d9910c4",
   "metadata": {},
   "outputs": [],
   "source": [
    "# get products that are in the same category that SPRITE SKUs, and get top-3 of them by Volume\n",
    "sprite_competitors = no_tccc_df[(no_tccc_df['Brand'] != 'SPRITE') \n",
    "                               & (no_tccc_df['Category'] == 'R. FRUTALES')].groupby('ProductID') \\\n",
    "                                .agg({'Volume': 'sum'}) \\\n",
    "                                .sort_values(by='Volume', ascending=False) \\\n",
    "                                .reset_index() \\\n",
    "                                .head(3)\n",
    "sprite_competitors"
   ]
  },
  {
   "cell_type": "code",
   "execution_count": null,
   "id": "0258298a-c6ca-4359-82e5-c7c52a37064e",
   "metadata": {},
   "outputs": [],
   "source": [
    "# list of SPRITE competitor brands\n",
    "no_tccc_df[no_tccc_df['ProductID'].isin(sprite_competitors['ProductID'])]['Brand'].unique()"
   ]
  },
  {
   "cell_type": "code",
   "execution_count": null,
   "id": "8f637cc3-f6f4-403d-99cf-058463d27b3c",
   "metadata": {},
   "outputs": [],
   "source": [
    "no_tccc_df[no_tccc_df['ProductID'] == 358130584]['Brand'].unique()"
   ]
  },
  {
   "cell_type": "markdown",
   "id": "1af7b1e6-4b91-4594-9d35-55e3e450ba77",
   "metadata": {},
   "source": [
    "SPRITE competitors are SQUIRT, SEVEN UP, and AGA.\n",
    "<br>SPRITE competitors are better than SPRITE based on Volume metric. The top Volume of SQUIRT is 4.8 times greater than the top Volume of SPRITE"
   ]
  },
  {
   "cell_type": "markdown",
   "id": "d5a3fa80-6248-4ebc-9689-a5b7348b27de",
   "metadata": {},
   "source": [
    "# Product Performance:\n",
    "\n",
    "- what are the key products that must always be presented in the store to avoid loss of sales? (Hist Exit Rates)\n"
   ]
  },
  {
   "cell_type": "code",
   "execution_count": null,
   "id": "ed2a0507-29cb-4baa-9353-ee2c9d4d5eae",
   "metadata": {},
   "outputs": [],
   "source": [
    "# add the column of the absolute amount of the lost volume\n",
    "df['LostVolume'] = df['Volume'] * df['ExitRate']"
   ]
  },
  {
   "cell_type": "code",
   "execution_count": null,
   "id": "4cda3d87-b491-4747-821d-0da3ff275f58",
   "metadata": {},
   "outputs": [],
   "source": [
    "# get top-5 products with brands with the biggest volume loss\n",
    "df.groupby(['ProductID', 'Brand']) \\\n",
    "  .agg({'LostVolume': 'sum'}) \\\n",
    "  .sort_values('LostVolume', ascending=False) \\\n",
    "  .head()"
   ]
  },
  {
   "cell_type": "markdown",
   "id": "4738ea77-ecd0-447f-bd1d-458c471ddab8",
   "metadata": {},
   "source": [
    "\n",
    "- what are the key products for which price change can lead to an unprofitable loss of sales? (Hint: Elasticity)"
   ]
  },
  {
   "cell_type": "code",
   "execution_count": null,
   "id": "30d930f2-4eab-4cfc-aad9-6a3929236b9c",
   "metadata": {},
   "outputs": [],
   "source": [
    "# add the column of the loss of revenue\n",
    "df['RevenueLoss'] = df['Revenue'] * df['PriceElasticity']"
   ]
  },
  {
   "cell_type": "code",
   "execution_count": null,
   "id": "3c697f2b-e2cd-4cd1-9533-2612df5e0300",
   "metadata": {},
   "outputs": [],
   "source": [
    "df.groupby(['ProductID', 'Brand']) \\\n",
    "  .agg({'RevenueLoss':'sum'}) \\\n",
    "  .sort_values('RevenueLoss') \\\n",
    "  .head()"
   ]
  },
  {
   "cell_type": "code",
   "execution_count": null,
   "id": "52a89253-ec10-4241-a473-fe570b271c11",
   "metadata": {},
   "outputs": [],
   "source": []
  }
 ],
 "metadata": {
  "kernelspec": {
   "display_name": "Python 3",
   "language": "python",
   "name": "python3"
  },
  "language_info": {
   "codemirror_mode": {
    "name": "ipython",
    "version": 3
   },
   "file_extension": ".py",
   "mimetype": "text/x-python",
   "name": "python",
   "nbconvert_exporter": "python",
   "pygments_lexer": "ipython3",
   "version": "3.8.8"
  }
 },
 "nbformat": 4,
 "nbformat_minor": 5
}
