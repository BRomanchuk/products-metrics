{
 "cells": [
  {
   "cell_type": "markdown",
   "id": "65f9f645-5313-40f7-81ba-8ea40a53c594",
   "metadata": {},
   "source": [
    "### Overview of the dataset:\n",
    "The attached dataset is a baseline – aggregated data holding key performance metrics across different selling points for different products. Each product can be represented in different selling points (DistributionUnit) and have different prices depending on where is being sold.\n",
    "\n",
    "### Explanation of some fields:\n",
    "\n",
    "\n",
    "BaselineDetailID – Id of the product in the DistributionUnit\n",
    "\n",
    "BaselineID – ID of current baseline.\n",
    "\n",
    "ProductID – General ID of the Product\n",
    "\n",
    "DistributionUnit – sales channel.\n",
    "\n",
    "NSRperUC -  Net Sales Revenue Per Unit Case, presented only for TCCC Manufacturer.\n",
    "\n",
    "COGS – Cost of goods sold\n",
    "\n",
    "ExitRate – Percentage of the volume that will be lost if the product is not represented in the store\n",
    "\n",
    "### Overview of the task:\n",
    "Create an executive summary for a provided baseline that can be shown to a market owner to help him better understand the market structure and TCCC's position. Below is the list of the visualizations that might be helpful, but this list is not a hard restriction.\n",
    "\n",
    "### High-level aggregations:\n",
    "\n",
    "- top Manufacturers\n",
    "\n",
    "- top Brands by Volume and Manufacturer\n",
    "\n",
    "- top Categories by Volume\n",
    "\n",
    "- top Brand PackSize by Channel and Manufacturer by Volume for all, by Revenue for TCCC\n",
    "\n",
    "### Competitor selection:\n",
    "\n",
    "- for the top 3 TCCC brands: the top 3 SKUs from each brand present the most suitable competitor SKU.\n",
    "Describe what criteria are used to define competitor SKU and why. How do TCCC SKUs perform in contrast to competitor SKUs?\n",
    "\n",
    "### Product Performance:\n",
    "\n",
    "- what are the key products that must always be presented in the store to avoid loss of sales? (Hist Exit Rates)\n",
    "- what are the key products for which price change can lead to an unprofitable loss of sales? (Hint: Elasticity)\n",
    "\n",
    "The result should be presented in a jupyter-notebook with clear, interactive visualizations. "
   ]
  },
  {
   "cell_type": "code",
   "execution_count": 1,
   "id": "7e1d1542-f685-4264-b4df-59e8d16270d4",
   "metadata": {},
   "outputs": [],
   "source": [
    "import numpy as np\n",
    "import pandas as pd\n",
    "import matplotlib.pyplot as plt"
   ]
  },
  {
   "cell_type": "code",
   "execution_count": 2,
   "id": "50a288ce-df61-4c95-8149-aeff8de3abf9",
   "metadata": {},
   "outputs": [
    {
     "data": {
      "text/html": [
       "<div>\n",
       "<style scoped>\n",
       "    .dataframe tbody tr th:only-of-type {\n",
       "        vertical-align: middle;\n",
       "    }\n",
       "\n",
       "    .dataframe tbody tr th {\n",
       "        vertical-align: top;\n",
       "    }\n",
       "\n",
       "    .dataframe thead th {\n",
       "        text-align: right;\n",
       "    }\n",
       "</style>\n",
       "<table border=\"1\" class=\"dataframe\">\n",
       "  <thead>\n",
       "    <tr style=\"text-align: right;\">\n",
       "      <th></th>\n",
       "      <th>BaselineDetailID</th>\n",
       "      <th>BaselineID</th>\n",
       "      <th>ProductID</th>\n",
       "      <th>DistributionUnit</th>\n",
       "      <th>CurrencyCode</th>\n",
       "      <th>Price</th>\n",
       "      <th>NSRperUC</th>\n",
       "      <th>EnvironmentalTaxPerUC</th>\n",
       "      <th>OperatingCOGSperUC</th>\n",
       "      <th>WarehouseCostPerUC</th>\n",
       "      <th>...</th>\n",
       "      <th>ExitRate</th>\n",
       "      <th>RatioNonOperatingCOGStoNSR</th>\n",
       "      <th>Distribution</th>\n",
       "      <th>Description</th>\n",
       "      <th>Manufacturer</th>\n",
       "      <th>Category</th>\n",
       "      <th>Brand</th>\n",
       "      <th>Flavor</th>\n",
       "      <th>PackSize</th>\n",
       "      <th>Packaging</th>\n",
       "    </tr>\n",
       "  </thead>\n",
       "  <tbody>\n",
       "    <tr>\n",
       "      <th>0</th>\n",
       "      <td>816018</td>\n",
       "      <td>451</td>\n",
       "      <td>358130194</td>\n",
       "      <td>SOUTH</td>\n",
       "      <td>484</td>\n",
       "      <td>62.8757</td>\n",
       "      <td>0.00000</td>\n",
       "      <td>0</td>\n",
       "      <td>0.000</td>\n",
       "      <td>0</td>\n",
       "      <td>...</td>\n",
       "      <td>12.71589</td>\n",
       "      <td>0</td>\n",
       "      <td>0.00100</td>\n",
       "      <td>ADAS_PEPSICO_SEVEN UP LIMONADA_LIMON_1500ML_EN...</td>\n",
       "      <td>PEPSICO</td>\n",
       "      <td>ADAS</td>\n",
       "      <td>SEVEN UP LIMONADA</td>\n",
       "      <td>LIMON</td>\n",
       "      <td>1500</td>\n",
       "      <td>BOTELLA DE PLASTICO_NR</td>\n",
       "    </tr>\n",
       "    <tr>\n",
       "      <th>1</th>\n",
       "      <td>816019</td>\n",
       "      <td>451</td>\n",
       "      <td>358130194</td>\n",
       "      <td>EAST</td>\n",
       "      <td>484</td>\n",
       "      <td>65.9368</td>\n",
       "      <td>0.00000</td>\n",
       "      <td>0</td>\n",
       "      <td>0.000</td>\n",
       "      <td>0</td>\n",
       "      <td>...</td>\n",
       "      <td>12.71589</td>\n",
       "      <td>0</td>\n",
       "      <td>0.00100</td>\n",
       "      <td>ADAS_PEPSICO_SEVEN UP LIMONADA_LIMON_1500ML_EN...</td>\n",
       "      <td>PEPSICO</td>\n",
       "      <td>ADAS</td>\n",
       "      <td>SEVEN UP LIMONADA</td>\n",
       "      <td>LIMON</td>\n",
       "      <td>1500</td>\n",
       "      <td>BOTELLA DE PLASTICO_NR</td>\n",
       "    </tr>\n",
       "    <tr>\n",
       "      <th>2</th>\n",
       "      <td>816020</td>\n",
       "      <td>451</td>\n",
       "      <td>358130194</td>\n",
       "      <td>WEST</td>\n",
       "      <td>484</td>\n",
       "      <td>62.8757</td>\n",
       "      <td>0.00000</td>\n",
       "      <td>0</td>\n",
       "      <td>0.000</td>\n",
       "      <td>0</td>\n",
       "      <td>...</td>\n",
       "      <td>12.71589</td>\n",
       "      <td>0</td>\n",
       "      <td>9.00000</td>\n",
       "      <td>ADAS_PEPSICO_SEVEN UP LIMONADA_LIMON_1500ML_EN...</td>\n",
       "      <td>PEPSICO</td>\n",
       "      <td>ADAS</td>\n",
       "      <td>SEVEN UP LIMONADA</td>\n",
       "      <td>LIMON</td>\n",
       "      <td>1500</td>\n",
       "      <td>BOTELLA DE PLASTICO_NR</td>\n",
       "    </tr>\n",
       "    <tr>\n",
       "      <th>3</th>\n",
       "      <td>816021</td>\n",
       "      <td>451</td>\n",
       "      <td>358130194</td>\n",
       "      <td>NORTH</td>\n",
       "      <td>484</td>\n",
       "      <td>62.8757</td>\n",
       "      <td>0.00000</td>\n",
       "      <td>0</td>\n",
       "      <td>0.000</td>\n",
       "      <td>0</td>\n",
       "      <td>...</td>\n",
       "      <td>12.71589</td>\n",
       "      <td>0</td>\n",
       "      <td>0.00100</td>\n",
       "      <td>ADAS_PEPSICO_SEVEN UP LIMONADA_LIMON_1500ML_EN...</td>\n",
       "      <td>PEPSICO</td>\n",
       "      <td>ADAS</td>\n",
       "      <td>SEVEN UP LIMONADA</td>\n",
       "      <td>LIMON</td>\n",
       "      <td>1500</td>\n",
       "      <td>BOTELLA DE PLASTICO_NR</td>\n",
       "    </tr>\n",
       "    <tr>\n",
       "      <th>4</th>\n",
       "      <td>816014</td>\n",
       "      <td>451</td>\n",
       "      <td>358130195</td>\n",
       "      <td>SOUTH</td>\n",
       "      <td>484</td>\n",
       "      <td>126.7034</td>\n",
       "      <td>75.13333</td>\n",
       "      <td>0</td>\n",
       "      <td>22.429</td>\n",
       "      <td>0</td>\n",
       "      <td>...</td>\n",
       "      <td>9.63984</td>\n",
       "      <td>0</td>\n",
       "      <td>0.12124</td>\n",
       "      <td>ADAS_COCA-COLA COMPANY_DEL VALLE Y NADA_NARANJ...</td>\n",
       "      <td>TCCC</td>\n",
       "      <td>ADAS</td>\n",
       "      <td>DEL VALLE Y NADA</td>\n",
       "      <td>NARANJA</td>\n",
       "      <td>600</td>\n",
       "      <td>BOTELLA DE PLASTICO_NR</td>\n",
       "    </tr>\n",
       "  </tbody>\n",
       "</table>\n",
       "<p>5 rows × 24 columns</p>\n",
       "</div>"
      ],
      "text/plain": [
       "   BaselineDetailID  BaselineID  ProductID DistributionUnit  CurrencyCode  \\\n",
       "0            816018         451  358130194            SOUTH           484   \n",
       "1            816019         451  358130194             EAST           484   \n",
       "2            816020         451  358130194             WEST           484   \n",
       "3            816021         451  358130194            NORTH           484   \n",
       "4            816014         451  358130195            SOUTH           484   \n",
       "\n",
       "      Price  NSRperUC  EnvironmentalTaxPerUC  OperatingCOGSperUC  \\\n",
       "0   62.8757   0.00000                      0               0.000   \n",
       "1   65.9368   0.00000                      0               0.000   \n",
       "2   62.8757   0.00000                      0               0.000   \n",
       "3   62.8757   0.00000                      0               0.000   \n",
       "4  126.7034  75.13333                      0              22.429   \n",
       "\n",
       "   WarehouseCostPerUC  ...  ExitRate  RatioNonOperatingCOGStoNSR  \\\n",
       "0                   0  ...  12.71589                           0   \n",
       "1                   0  ...  12.71589                           0   \n",
       "2                   0  ...  12.71589                           0   \n",
       "3                   0  ...  12.71589                           0   \n",
       "4                   0  ...   9.63984                           0   \n",
       "\n",
       "   Distribution                                        Description  \\\n",
       "0       0.00100  ADAS_PEPSICO_SEVEN UP LIMONADA_LIMON_1500ML_EN...   \n",
       "1       0.00100  ADAS_PEPSICO_SEVEN UP LIMONADA_LIMON_1500ML_EN...   \n",
       "2       9.00000  ADAS_PEPSICO_SEVEN UP LIMONADA_LIMON_1500ML_EN...   \n",
       "3       0.00100  ADAS_PEPSICO_SEVEN UP LIMONADA_LIMON_1500ML_EN...   \n",
       "4       0.12124  ADAS_COCA-COLA COMPANY_DEL VALLE Y NADA_NARANJ...   \n",
       "\n",
       "   Manufacturer  Category              Brand   Flavor PackSize  \\\n",
       "0       PEPSICO      ADAS  SEVEN UP LIMONADA    LIMON     1500   \n",
       "1       PEPSICO      ADAS  SEVEN UP LIMONADA    LIMON     1500   \n",
       "2       PEPSICO      ADAS  SEVEN UP LIMONADA    LIMON     1500   \n",
       "3       PEPSICO      ADAS  SEVEN UP LIMONADA    LIMON     1500   \n",
       "4          TCCC      ADAS   DEL VALLE Y NADA  NARANJA      600   \n",
       "\n",
       "                Packaging  \n",
       "0  BOTELLA DE PLASTICO_NR  \n",
       "1  BOTELLA DE PLASTICO_NR  \n",
       "2  BOTELLA DE PLASTICO_NR  \n",
       "3  BOTELLA DE PLASTICO_NR  \n",
       "4  BOTELLA DE PLASTICO_NR  \n",
       "\n",
       "[5 rows x 24 columns]"
      ]
     },
     "execution_count": 2,
     "metadata": {},
     "output_type": "execute_result"
    }
   ],
   "source": [
    "df = pd.read_excel('products-metrics/DemoBaseline.xlsx')\n",
    "df.head()"
   ]
  },
  {
   "cell_type": "code",
   "execution_count": 3,
   "id": "c3125b4b-0fd9-446f-86e9-b00d6c488c25",
   "metadata": {
    "tags": []
   },
   "outputs": [
    {
     "data": {
      "text/plain": [
       "(2843, 24)"
      ]
     },
     "execution_count": 3,
     "metadata": {},
     "output_type": "execute_result"
    }
   ],
   "source": [
    "df.shape"
   ]
  },
  {
   "cell_type": "code",
   "execution_count": 4,
   "id": "72cd4afe-9c65-4e7b-9cc1-955498beed2a",
   "metadata": {},
   "outputs": [
    {
     "data": {
      "text/plain": [
       "Index(['BaselineDetailID', 'BaselineID', 'ProductID', 'DistributionUnit',\n",
       "       'CurrencyCode', 'Price', 'NSRperUC', 'EnvironmentalTaxPerUC',\n",
       "       'OperatingCOGSperUC', 'WarehouseCostPerUC', 'DistributionCostPerUC',\n",
       "       'TransactionsPerUC', 'Volume', 'PriceElasticity', 'ExitRate',\n",
       "       'RatioNonOperatingCOGStoNSR', 'Distribution', 'Description',\n",
       "       'Manufacturer', 'Category', 'Brand', 'Flavor', 'PackSize', 'Packaging'],\n",
       "      dtype='object')"
      ]
     },
     "execution_count": 4,
     "metadata": {},
     "output_type": "execute_result"
    }
   ],
   "source": [
    "df.columns"
   ]
  },
  {
   "cell_type": "markdown",
   "id": "7082a846-9a72-451d-aab7-9a2fb3d382ff",
   "metadata": {},
   "source": [
    "# High-level aggregations:\n",
    "\n",
    "### - top Manufacturers\n"
   ]
  },
  {
   "cell_type": "code",
   "execution_count": 5,
   "id": "13134417-febb-4562-9f92-2a40933a8e5a",
   "metadata": {},
   "outputs": [
    {
     "data": {
      "text/plain": [
       "TCCC              930\n",
       "GRUPO PENAFIEL    348\n",
       "PEPSICO           310\n",
       "AGA DE MEXICO     226\n",
       "DANONE            167\n",
       "Name: Manufacturer, dtype: int64"
      ]
     },
     "execution_count": 5,
     "metadata": {},
     "output_type": "execute_result"
    }
   ],
   "source": [
    "df['Manufacturer'].value_counts().head()"
   ]
  },
  {
   "cell_type": "markdown",
   "id": "44526968-662c-46de-96a8-c6b458121f00",
   "metadata": {},
   "source": [
    "### - top Brands by Volume and Manufacturer\n"
   ]
  },
  {
   "cell_type": "code",
   "execution_count": 6,
   "id": "9ce1a1b2-edd9-4d18-af18-36cb6310db1c",
   "metadata": {},
   "outputs": [
    {
     "data": {
      "text/html": [
       "<div>\n",
       "<style scoped>\n",
       "    .dataframe tbody tr th:only-of-type {\n",
       "        vertical-align: middle;\n",
       "    }\n",
       "\n",
       "    .dataframe tbody tr th {\n",
       "        vertical-align: top;\n",
       "    }\n",
       "\n",
       "    .dataframe thead th {\n",
       "        text-align: right;\n",
       "    }\n",
       "</style>\n",
       "<table border=\"1\" class=\"dataframe\">\n",
       "  <thead>\n",
       "    <tr style=\"text-align: right;\">\n",
       "      <th></th>\n",
       "      <th></th>\n",
       "      <th>Volume</th>\n",
       "    </tr>\n",
       "    <tr>\n",
       "      <th>Manufacturer</th>\n",
       "      <th>Brand</th>\n",
       "      <th></th>\n",
       "    </tr>\n",
       "  </thead>\n",
       "  <tbody>\n",
       "    <tr>\n",
       "      <th>TCCC</th>\n",
       "      <th>COCA COLA</th>\n",
       "      <td>1.041345e+09</td>\n",
       "    </tr>\n",
       "    <tr>\n",
       "      <th>PEPSICO</th>\n",
       "      <th>PEPSI COLA</th>\n",
       "      <td>4.326280e+07</td>\n",
       "    </tr>\n",
       "    <tr>\n",
       "      <th>TCCC</th>\n",
       "      <th>CIEL</th>\n",
       "      <td>2.718835e+07</td>\n",
       "    </tr>\n",
       "    <tr>\n",
       "      <th>GRUPO GEPP</th>\n",
       "      <th>E-PURA</th>\n",
       "      <td>2.181769e+07</td>\n",
       "    </tr>\n",
       "    <tr>\n",
       "      <th>DANONE</th>\n",
       "      <th>BONAFONT</th>\n",
       "      <td>1.218342e+07</td>\n",
       "    </tr>\n",
       "  </tbody>\n",
       "</table>\n",
       "</div>"
      ],
      "text/plain": [
       "                               Volume\n",
       "Manufacturer Brand                   \n",
       "TCCC         COCA COLA   1.041345e+09\n",
       "PEPSICO      PEPSI COLA  4.326280e+07\n",
       "TCCC         CIEL        2.718835e+07\n",
       "GRUPO GEPP   E-PURA      2.181769e+07\n",
       "DANONE       BONAFONT    1.218342e+07"
      ]
     },
     "execution_count": 6,
     "metadata": {},
     "output_type": "execute_result"
    }
   ],
   "source": [
    "brand_manuf = df.groupby(['Manufacturer', 'Brand']) \\\n",
    "                .agg({'Volume': 'sum'}) \\\n",
    "                .sort_values(by='Volume', ascending=False)\n",
    "brand_manuf.head()"
   ]
  },
  {
   "cell_type": "markdown",
   "id": "01b4d546-4887-4906-a979-49abb3b7913e",
   "metadata": {},
   "source": [
    "\n",
    "### - top Categories by Volume\n"
   ]
  },
  {
   "cell_type": "code",
   "execution_count": 7,
   "id": "468d1403-f4b4-4aee-b1c8-55181b22d35b",
   "metadata": {},
   "outputs": [
    {
     "data": {
      "text/html": [
       "<div>\n",
       "<style scoped>\n",
       "    .dataframe tbody tr th:only-of-type {\n",
       "        vertical-align: middle;\n",
       "    }\n",
       "\n",
       "    .dataframe tbody tr th {\n",
       "        vertical-align: top;\n",
       "    }\n",
       "\n",
       "    .dataframe thead th {\n",
       "        text-align: right;\n",
       "    }\n",
       "</style>\n",
       "<table border=\"1\" class=\"dataframe\">\n",
       "  <thead>\n",
       "    <tr style=\"text-align: right;\">\n",
       "      <th></th>\n",
       "      <th>Volume</th>\n",
       "    </tr>\n",
       "    <tr>\n",
       "      <th>Category</th>\n",
       "      <th></th>\n",
       "    </tr>\n",
       "  </thead>\n",
       "  <tbody>\n",
       "    <tr>\n",
       "      <th>COLAS</th>\n",
       "      <td>1.107281e+09</td>\n",
       "    </tr>\n",
       "    <tr>\n",
       "      <th>AGUA EMBOTELLADA</th>\n",
       "      <td>6.580332e+07</td>\n",
       "    </tr>\n",
       "    <tr>\n",
       "      <th>R. FRUTALES</th>\n",
       "      <td>6.289466e+07</td>\n",
       "    </tr>\n",
       "    <tr>\n",
       "      <th>NARANJADAS</th>\n",
       "      <td>1.349067e+07</td>\n",
       "    </tr>\n",
       "    <tr>\n",
       "      <th>AGUA MINERAL NATURAL</th>\n",
       "      <td>7.764272e+06</td>\n",
       "    </tr>\n",
       "  </tbody>\n",
       "</table>\n",
       "</div>"
      ],
      "text/plain": [
       "                            Volume\n",
       "Category                          \n",
       "COLAS                 1.107281e+09\n",
       "AGUA EMBOTELLADA      6.580332e+07\n",
       "R. FRUTALES           6.289466e+07\n",
       "NARANJADAS            1.349067e+07\n",
       "AGUA MINERAL NATURAL  7.764272e+06"
      ]
     },
     "execution_count": 7,
     "metadata": {},
     "output_type": "execute_result"
    }
   ],
   "source": [
    "categ = df.groupby('Category') \\\n",
    "          .agg({'Volume': 'sum'}) \\\n",
    "          .sort_values(by='Volume', ascending=False)\n",
    "categ.head()"
   ]
  },
  {
   "cell_type": "markdown",
   "id": "32c5e739-5c9c-403e-8301-c3fab754bf02",
   "metadata": {},
   "source": [
    "### - top Brand PackSize by Channel and Manufacturer by Volume for all, by Revenue for TCCC"
   ]
  },
  {
   "cell_type": "code",
   "execution_count": 8,
   "id": "1b9f33e6-4b83-41e0-97d9-92bbb7bd1021",
   "metadata": {},
   "outputs": [],
   "source": [
    "# add revenue column\n",
    "df['Revenue'] = df['Price'] * df['Volume']\n",
    "# define DataFrame of TCCC\n",
    "tccc_df = df[df['Manufacturer'] == \"TCCC\"]"
   ]
  },
  {
   "cell_type": "code",
   "execution_count": 9,
   "id": "b0a733ad-b595-44e6-b50e-64f02c82ba14",
   "metadata": {},
   "outputs": [
    {
     "data": {
      "text/html": [
       "<div>\n",
       "<style scoped>\n",
       "    .dataframe tbody tr th:only-of-type {\n",
       "        vertical-align: middle;\n",
       "    }\n",
       "\n",
       "    .dataframe tbody tr th {\n",
       "        vertical-align: top;\n",
       "    }\n",
       "\n",
       "    .dataframe thead th {\n",
       "        text-align: right;\n",
       "    }\n",
       "</style>\n",
       "<table border=\"1\" class=\"dataframe\">\n",
       "  <thead>\n",
       "    <tr style=\"text-align: right;\">\n",
       "      <th></th>\n",
       "      <th>PackSize</th>\n",
       "      <th>Brand</th>\n",
       "      <th>DistributionUnit</th>\n",
       "      <th>Revenue</th>\n",
       "    </tr>\n",
       "  </thead>\n",
       "  <tbody>\n",
       "    <tr>\n",
       "      <th>0</th>\n",
       "      <td>1</td>\n",
       "      <td>AGGREGATED</td>\n",
       "      <td>EAST</td>\n",
       "      <td>9.298097e+07</td>\n",
       "    </tr>\n",
       "    <tr>\n",
       "      <th>1</th>\n",
       "      <td>1</td>\n",
       "      <td>AGGREGATED</td>\n",
       "      <td>NORTH</td>\n",
       "      <td>9.987632e+07</td>\n",
       "    </tr>\n",
       "    <tr>\n",
       "      <th>2</th>\n",
       "      <td>1</td>\n",
       "      <td>AGGREGATED</td>\n",
       "      <td>SOUTH</td>\n",
       "      <td>5.332763e+07</td>\n",
       "    </tr>\n",
       "  </tbody>\n",
       "</table>\n",
       "</div>"
      ],
      "text/plain": [
       "   PackSize       Brand DistributionUnit       Revenue\n",
       "0         1  AGGREGATED             EAST  9.298097e+07\n",
       "1         1  AGGREGATED            NORTH  9.987632e+07\n",
       "2         1  AGGREGATED            SOUTH  5.332763e+07"
      ]
     },
     "execution_count": 9,
     "metadata": {},
     "output_type": "execute_result"
    }
   ],
   "source": [
    "# group the TCCC dataframe by PackSize, Brand, Channel and calculate the sum of Revenue\n",
    "tccc_packsizes = df.groupby(['PackSize', 'Brand', 'DistributionUnit']) \\\n",
    "                   .agg({'Revenue': 'sum'}) \\\n",
    "                   .reset_index()\n",
    "tccc_packsizes.head(3)"
   ]
  },
  {
   "cell_type": "code",
   "execution_count": 10,
   "id": "047ed6f0-7ac8-408b-8733-41594ccef4d6",
   "metadata": {},
   "outputs": [
    {
     "data": {
      "text/html": [
       "<div>\n",
       "<style scoped>\n",
       "    .dataframe tbody tr th:only-of-type {\n",
       "        vertical-align: middle;\n",
       "    }\n",
       "\n",
       "    .dataframe tbody tr th {\n",
       "        vertical-align: top;\n",
       "    }\n",
       "\n",
       "    .dataframe thead th {\n",
       "        text-align: right;\n",
       "    }\n",
       "</style>\n",
       "<table border=\"1\" class=\"dataframe\">\n",
       "  <thead>\n",
       "    <tr style=\"text-align: right;\">\n",
       "      <th></th>\n",
       "      <th>PackSize</th>\n",
       "      <th>Brand</th>\n",
       "      <th>DistributionUnit</th>\n",
       "      <th>Manufacturer</th>\n",
       "      <th>Volume</th>\n",
       "    </tr>\n",
       "  </thead>\n",
       "  <tbody>\n",
       "    <tr>\n",
       "      <th>0</th>\n",
       "      <td>1</td>\n",
       "      <td>AGGREGATED</td>\n",
       "      <td>EAST</td>\n",
       "      <td>AGGREGATED</td>\n",
       "      <td>8.977673e+05</td>\n",
       "    </tr>\n",
       "    <tr>\n",
       "      <th>1</th>\n",
       "      <td>1</td>\n",
       "      <td>AGGREGATED</td>\n",
       "      <td>NORTH</td>\n",
       "      <td>AGGREGATED</td>\n",
       "      <td>1.020671e+06</td>\n",
       "    </tr>\n",
       "    <tr>\n",
       "      <th>2</th>\n",
       "      <td>1</td>\n",
       "      <td>AGGREGATED</td>\n",
       "      <td>SOUTH</td>\n",
       "      <td>AGGREGATED</td>\n",
       "      <td>5.536072e+05</td>\n",
       "    </tr>\n",
       "  </tbody>\n",
       "</table>\n",
       "</div>"
      ],
      "text/plain": [
       "   PackSize       Brand DistributionUnit Manufacturer        Volume\n",
       "0         1  AGGREGATED             EAST   AGGREGATED  8.977673e+05\n",
       "1         1  AGGREGATED            NORTH   AGGREGATED  1.020671e+06\n",
       "2         1  AGGREGATED            SOUTH   AGGREGATED  5.536072e+05"
      ]
     },
     "execution_count": 10,
     "metadata": {},
     "output_type": "execute_result"
    }
   ],
   "source": [
    "# group the dataframe by PackSize, Brand, Channel and Manufacturer and calculate the sum of Volume\n",
    "packsizes = df.groupby(['PackSize', 'Brand', 'DistributionUnit', 'Manufacturer']) \\\n",
    "              .agg({'Volume': 'sum'}) \\\n",
    "              .reset_index()\n",
    "packsizes.head(3)"
   ]
  },
  {
   "cell_type": "code",
   "execution_count": 11,
   "id": "f74cbaf4-05c2-4d2e-ac5d-0b386d13eb4c",
   "metadata": {},
   "outputs": [
    {
     "data": {
      "text/html": [
       "<div>\n",
       "<style scoped>\n",
       "    .dataframe tbody tr th:only-of-type {\n",
       "        vertical-align: middle;\n",
       "    }\n",
       "\n",
       "    .dataframe tbody tr th {\n",
       "        vertical-align: top;\n",
       "    }\n",
       "\n",
       "    .dataframe thead th {\n",
       "        text-align: right;\n",
       "    }\n",
       "</style>\n",
       "<table border=\"1\" class=\"dataframe\">\n",
       "  <thead>\n",
       "    <tr style=\"text-align: right;\">\n",
       "      <th></th>\n",
       "      <th>Brand</th>\n",
       "      <th>DistributionUnit</th>\n",
       "      <th>Revenue</th>\n",
       "    </tr>\n",
       "  </thead>\n",
       "  <tbody>\n",
       "    <tr>\n",
       "      <th>0</th>\n",
       "      <td>ACAPULCO</td>\n",
       "      <td>NORTH</td>\n",
       "      <td>204018.422967</td>\n",
       "    </tr>\n",
       "    <tr>\n",
       "      <th>1</th>\n",
       "      <td>ACAPULCO</td>\n",
       "      <td>SOUTH</td>\n",
       "      <td>88100.250716</td>\n",
       "    </tr>\n",
       "    <tr>\n",
       "      <th>2</th>\n",
       "      <td>ACAPULCO</td>\n",
       "      <td>WEST</td>\n",
       "      <td>110162.618869</td>\n",
       "    </tr>\n",
       "  </tbody>\n",
       "</table>\n",
       "</div>"
      ],
      "text/plain": [
       "      Brand DistributionUnit        Revenue\n",
       "0  ACAPULCO            NORTH  204018.422967\n",
       "1  ACAPULCO            SOUTH   88100.250716\n",
       "2  ACAPULCO             WEST  110162.618869"
      ]
     },
     "execution_count": 11,
     "metadata": {},
     "output_type": "execute_result"
    }
   ],
   "source": [
    "# get top TCCC PackSizes by Revenue\n",
    "tccc_top_ps = tccc_packsizes.groupby(['Brand', 'DistributionUnit']) \\\n",
    "                            .agg({'Revenue': 'max'}) \\\n",
    "                            .reset_index()\n",
    "tccc_top_ps.head(3)"
   ]
  },
  {
   "cell_type": "code",
   "execution_count": 12,
   "id": "c06253e9-0d49-4b74-bd27-4c76fd138205",
   "metadata": {},
   "outputs": [
    {
     "data": {
      "text/html": [
       "<div>\n",
       "<style scoped>\n",
       "    .dataframe tbody tr th:only-of-type {\n",
       "        vertical-align: middle;\n",
       "    }\n",
       "\n",
       "    .dataframe tbody tr th {\n",
       "        vertical-align: top;\n",
       "    }\n",
       "\n",
       "    .dataframe thead th {\n",
       "        text-align: right;\n",
       "    }\n",
       "</style>\n",
       "<table border=\"1\" class=\"dataframe\">\n",
       "  <thead>\n",
       "    <tr style=\"text-align: right;\">\n",
       "      <th></th>\n",
       "      <th>Brand</th>\n",
       "      <th>DistributionUnit</th>\n",
       "      <th>Manufacturer</th>\n",
       "      <th>Volume</th>\n",
       "    </tr>\n",
       "  </thead>\n",
       "  <tbody>\n",
       "    <tr>\n",
       "      <th>0</th>\n",
       "      <td>ACAPULCO</td>\n",
       "      <td>NORTH</td>\n",
       "      <td>LA CONCORDIA</td>\n",
       "      <td>5620.38868</td>\n",
       "    </tr>\n",
       "    <tr>\n",
       "      <th>1</th>\n",
       "      <td>ACAPULCO</td>\n",
       "      <td>SOUTH</td>\n",
       "      <td>LA CONCORDIA</td>\n",
       "      <td>2427.02421</td>\n",
       "    </tr>\n",
       "    <tr>\n",
       "      <th>2</th>\n",
       "      <td>ACAPULCO</td>\n",
       "      <td>WEST</td>\n",
       "      <td>LA CONCORDIA</td>\n",
       "      <td>3034.80797</td>\n",
       "    </tr>\n",
       "  </tbody>\n",
       "</table>\n",
       "</div>"
      ],
      "text/plain": [
       "      Brand DistributionUnit  Manufacturer      Volume\n",
       "0  ACAPULCO            NORTH  LA CONCORDIA  5620.38868\n",
       "1  ACAPULCO            SOUTH  LA CONCORDIA  2427.02421\n",
       "2  ACAPULCO             WEST  LA CONCORDIA  3034.80797"
      ]
     },
     "execution_count": 12,
     "metadata": {},
     "output_type": "execute_result"
    }
   ],
   "source": [
    "# get top PackSizes by Volume\n",
    "top_ps = packsizes.groupby(['Brand', 'DistributionUnit', 'Manufacturer']) \\\n",
    "                  .agg({'Volume': 'max'}) \\\n",
    "                  .reset_index()\n",
    "top_ps.head(3)"
   ]
  },
  {
   "cell_type": "code",
   "execution_count": 13,
   "id": "110a3182-91e5-4cc2-82ce-f10afad604b3",
   "metadata": {},
   "outputs": [
    {
     "data": {
      "text/html": [
       "<div>\n",
       "<style scoped>\n",
       "    .dataframe tbody tr th:only-of-type {\n",
       "        vertical-align: middle;\n",
       "    }\n",
       "\n",
       "    .dataframe tbody tr th {\n",
       "        vertical-align: top;\n",
       "    }\n",
       "\n",
       "    .dataframe thead th {\n",
       "        text-align: right;\n",
       "    }\n",
       "</style>\n",
       "<table border=\"1\" class=\"dataframe\">\n",
       "  <thead>\n",
       "    <tr style=\"text-align: right;\">\n",
       "      <th></th>\n",
       "      <th>Revenue</th>\n",
       "      <th>PackSize</th>\n",
       "      <th>Brand</th>\n",
       "      <th>DistributionUnit</th>\n",
       "    </tr>\n",
       "  </thead>\n",
       "  <tbody>\n",
       "    <tr>\n",
       "      <th>0</th>\n",
       "      <td>204018.422967</td>\n",
       "      <td>1000</td>\n",
       "      <td>ACAPULCO</td>\n",
       "      <td>NORTH</td>\n",
       "    </tr>\n",
       "    <tr>\n",
       "      <th>1</th>\n",
       "      <td>88100.250716</td>\n",
       "      <td>1000</td>\n",
       "      <td>ACAPULCO</td>\n",
       "      <td>SOUTH</td>\n",
       "    </tr>\n",
       "    <tr>\n",
       "      <th>2</th>\n",
       "      <td>110162.618869</td>\n",
       "      <td>1000</td>\n",
       "      <td>ACAPULCO</td>\n",
       "      <td>WEST</td>\n",
       "    </tr>\n",
       "    <tr>\n",
       "      <th>3</th>\n",
       "      <td>32831.974312</td>\n",
       "      <td>330</td>\n",
       "      <td>ACAPULCOCO</td>\n",
       "      <td>NORTH</td>\n",
       "    </tr>\n",
       "    <tr>\n",
       "      <th>4</th>\n",
       "      <td>7269.902674</td>\n",
       "      <td>330</td>\n",
       "      <td>ACAPULCOCO</td>\n",
       "      <td>SOUTH</td>\n",
       "    </tr>\n",
       "  </tbody>\n",
       "</table>\n",
       "</div>"
      ],
      "text/plain": [
       "         Revenue  PackSize       Brand DistributionUnit\n",
       "0  204018.422967      1000    ACAPULCO            NORTH\n",
       "1   88100.250716      1000    ACAPULCO            SOUTH\n",
       "2  110162.618869      1000    ACAPULCO             WEST\n",
       "3   32831.974312       330  ACAPULCOCO            NORTH\n",
       "4    7269.902674       330  ACAPULCOCO            SOUTH"
      ]
     },
     "execution_count": 13,
     "metadata": {},
     "output_type": "execute_result"
    }
   ],
   "source": [
    "# join TCCC tables to get PackSize\n",
    "tccc_pack_size = tccc_top_ps.merge(tccc_packsizes, on='Revenue', suffixes=('_', '')).loc[:, 'Revenue':'DistributionUnit']\n",
    "tccc_pack_size.head()"
   ]
  },
  {
   "cell_type": "code",
   "execution_count": 14,
   "id": "75d7b435-c9d0-4dfc-ad95-35ee31e5c83a",
   "metadata": {},
   "outputs": [
    {
     "data": {
      "text/html": [
       "<div>\n",
       "<style scoped>\n",
       "    .dataframe tbody tr th:only-of-type {\n",
       "        vertical-align: middle;\n",
       "    }\n",
       "\n",
       "    .dataframe tbody tr th {\n",
       "        vertical-align: top;\n",
       "    }\n",
       "\n",
       "    .dataframe thead th {\n",
       "        text-align: right;\n",
       "    }\n",
       "</style>\n",
       "<table border=\"1\" class=\"dataframe\">\n",
       "  <thead>\n",
       "    <tr style=\"text-align: right;\">\n",
       "      <th></th>\n",
       "      <th>Volume</th>\n",
       "      <th>PackSize</th>\n",
       "      <th>Brand</th>\n",
       "      <th>DistributionUnit</th>\n",
       "      <th>Manufacturer</th>\n",
       "    </tr>\n",
       "  </thead>\n",
       "  <tbody>\n",
       "    <tr>\n",
       "      <th>0</th>\n",
       "      <td>5620.38868</td>\n",
       "      <td>1000</td>\n",
       "      <td>ACAPULCO</td>\n",
       "      <td>NORTH</td>\n",
       "      <td>LA CONCORDIA</td>\n",
       "    </tr>\n",
       "    <tr>\n",
       "      <th>1</th>\n",
       "      <td>2427.02421</td>\n",
       "      <td>1000</td>\n",
       "      <td>ACAPULCO</td>\n",
       "      <td>SOUTH</td>\n",
       "      <td>LA CONCORDIA</td>\n",
       "    </tr>\n",
       "    <tr>\n",
       "      <th>2</th>\n",
       "      <td>3034.80797</td>\n",
       "      <td>1000</td>\n",
       "      <td>ACAPULCO</td>\n",
       "      <td>WEST</td>\n",
       "      <td>LA CONCORDIA</td>\n",
       "    </tr>\n",
       "    <tr>\n",
       "      <th>3</th>\n",
       "      <td>113.39968</td>\n",
       "      <td>330</td>\n",
       "      <td>ACAPULCOCO</td>\n",
       "      <td>NORTH</td>\n",
       "      <td>CALAHUA</td>\n",
       "    </tr>\n",
       "    <tr>\n",
       "      <th>4</th>\n",
       "      <td>25.10981</td>\n",
       "      <td>330</td>\n",
       "      <td>ACAPULCOCO</td>\n",
       "      <td>SOUTH</td>\n",
       "      <td>CALAHUA</td>\n",
       "    </tr>\n",
       "  </tbody>\n",
       "</table>\n",
       "</div>"
      ],
      "text/plain": [
       "       Volume  PackSize       Brand DistributionUnit  Manufacturer\n",
       "0  5620.38868      1000    ACAPULCO            NORTH  LA CONCORDIA\n",
       "1  2427.02421      1000    ACAPULCO            SOUTH  LA CONCORDIA\n",
       "2  3034.80797      1000    ACAPULCO             WEST  LA CONCORDIA\n",
       "3   113.39968       330  ACAPULCOCO            NORTH       CALAHUA\n",
       "4    25.10981       330  ACAPULCOCO            SOUTH       CALAHUA"
      ]
     },
     "execution_count": 14,
     "metadata": {},
     "output_type": "execute_result"
    }
   ],
   "source": [
    "# join tables to get PackSize\n",
    "pack_size = top_ps.merge(packsizes, on='Volume', suffixes=('_', '')).loc[:, 'Volume':'Manufacturer']\n",
    "pack_size.head()"
   ]
  },
  {
   "cell_type": "markdown",
   "id": "d1ed4a34-6606-4ad7-bedd-bec87735fcb2",
   "metadata": {},
   "source": [
    "### - Top Manufacturer by Volume"
   ]
  },
  {
   "cell_type": "code",
   "execution_count": 15,
   "id": "eddc3b4f-3026-494e-a474-08720a28fcce",
   "metadata": {},
   "outputs": [
    {
     "data": {
      "text/html": [
       "<div>\n",
       "<style scoped>\n",
       "    .dataframe tbody tr th:only-of-type {\n",
       "        vertical-align: middle;\n",
       "    }\n",
       "\n",
       "    .dataframe tbody tr th {\n",
       "        vertical-align: top;\n",
       "    }\n",
       "\n",
       "    .dataframe thead th {\n",
       "        text-align: right;\n",
       "    }\n",
       "</style>\n",
       "<table border=\"1\" class=\"dataframe\">\n",
       "  <thead>\n",
       "    <tr style=\"text-align: right;\">\n",
       "      <th></th>\n",
       "      <th>Volume</th>\n",
       "    </tr>\n",
       "    <tr>\n",
       "      <th>Manufacturer</th>\n",
       "      <th></th>\n",
       "    </tr>\n",
       "  </thead>\n",
       "  <tbody>\n",
       "    <tr>\n",
       "      <th>TCCC</th>\n",
       "      <td>1.119014e+09</td>\n",
       "    </tr>\n",
       "    <tr>\n",
       "      <th>PEPSICO</th>\n",
       "      <td>6.092470e+07</td>\n",
       "    </tr>\n",
       "    <tr>\n",
       "      <th>GRUPO GEPP</th>\n",
       "      <td>2.503962e+07</td>\n",
       "    </tr>\n",
       "    <tr>\n",
       "      <th>AGA DE MEXICO</th>\n",
       "      <td>2.074967e+07</td>\n",
       "    </tr>\n",
       "    <tr>\n",
       "      <th>DANONE</th>\n",
       "      <td>1.218342e+07</td>\n",
       "    </tr>\n",
       "  </tbody>\n",
       "</table>\n",
       "</div>"
      ],
      "text/plain": [
       "                     Volume\n",
       "Manufacturer               \n",
       "TCCC           1.119014e+09\n",
       "PEPSICO        6.092470e+07\n",
       "GRUPO GEPP     2.503962e+07\n",
       "AGA DE MEXICO  2.074967e+07\n",
       "DANONE         1.218342e+07"
      ]
     },
     "execution_count": 15,
     "metadata": {},
     "output_type": "execute_result"
    }
   ],
   "source": [
    "manuf = df.groupby(['Manufacturer']) \\\n",
    "          .agg({'Volume': 'sum'}) \\\n",
    "          .sort_values(by='Volume', ascending=False)\n",
    "manuf.head()"
   ]
  },
  {
   "cell_type": "markdown",
   "id": "a9b0ab92-e045-4fb2-97a3-cc5a25f32140",
   "metadata": {},
   "source": [
    "# Competitor selection:\n",
    "\n",
    "- for the top 3 TCCC brands: the top 3 SKUs from each brand present the most suitable competitor SKU.\n",
    "Describe what criteria are used to define competitor SKU and why. How do TCCC SKUs perform in contrast to competitor SKUs?"
   ]
  },
  {
   "cell_type": "markdown",
   "id": "13c61aba-45d8-44ec-ba89-3622e29e1a2a",
   "metadata": {},
   "source": [
    "## Top 3 TCCC brands \n",
    "Brands are chosen by Volume"
   ]
  },
  {
   "cell_type": "code",
   "execution_count": 16,
   "id": "9aaba7e5-1db9-4a50-9197-9acf88f1b745",
   "metadata": {},
   "outputs": [],
   "source": [
    "tccc_top = df[df['Manufacturer'] == 'TCCC'].groupby('Brand') \\\n",
    "            .agg({'Volume': 'sum'}) \\\n",
    "            .sort_values(by='Volume', ascending=False) \\\n",
    "            .reset_index() \\\n",
    "            .head(3)"
   ]
  },
  {
   "cell_type": "code",
   "execution_count": 17,
   "id": "e5b0246d-4b51-4ec5-9f7a-9b31a477f78c",
   "metadata": {},
   "outputs": [
    {
     "data": {
      "text/html": [
       "<div>\n",
       "<style scoped>\n",
       "    .dataframe tbody tr th:only-of-type {\n",
       "        vertical-align: middle;\n",
       "    }\n",
       "\n",
       "    .dataframe tbody tr th {\n",
       "        vertical-align: top;\n",
       "    }\n",
       "\n",
       "    .dataframe thead th {\n",
       "        text-align: right;\n",
       "    }\n",
       "</style>\n",
       "<table border=\"1\" class=\"dataframe\">\n",
       "  <thead>\n",
       "    <tr style=\"text-align: right;\">\n",
       "      <th></th>\n",
       "      <th>Brand</th>\n",
       "      <th>Volume</th>\n",
       "    </tr>\n",
       "  </thead>\n",
       "  <tbody>\n",
       "    <tr>\n",
       "      <th>0</th>\n",
       "      <td>COCA COLA</td>\n",
       "      <td>1.041345e+09</td>\n",
       "    </tr>\n",
       "    <tr>\n",
       "      <th>1</th>\n",
       "      <td>CIEL</td>\n",
       "      <td>2.718835e+07</td>\n",
       "    </tr>\n",
       "    <tr>\n",
       "      <th>2</th>\n",
       "      <td>SPRITE</td>\n",
       "      <td>6.284246e+06</td>\n",
       "    </tr>\n",
       "  </tbody>\n",
       "</table>\n",
       "</div>"
      ],
      "text/plain": [
       "       Brand        Volume\n",
       "0  COCA COLA  1.041345e+09\n",
       "1       CIEL  2.718835e+07\n",
       "2     SPRITE  6.284246e+06"
      ]
     },
     "execution_count": 17,
     "metadata": {},
     "output_type": "execute_result"
    }
   ],
   "source": [
    "tccc_top"
   ]
  },
  {
   "cell_type": "markdown",
   "id": "5d816f31-b6cf-4af2-88eb-eb12c8d0431a",
   "metadata": {},
   "source": [
    "## Top products for each top brand of TCCC\n",
    "Products are also taken by Volume"
   ]
  },
  {
   "cell_type": "code",
   "execution_count": 18,
   "id": "0800a4d0-9a88-4d53-96e3-877021404552",
   "metadata": {},
   "outputs": [
    {
     "data": {
      "text/plain": [
       "{'COCA COLA':    ProductID Category        Volume\n",
       " 0  358147329    COLAS  6.337097e+08\n",
       " 1  358130403    COLAS  4.236299e+07\n",
       " 2  358130405    COLAS  2.324601e+07,\n",
       " 'CIEL':    ProductID          Category        Volume\n",
       " 0  358130211  AGUA EMBOTELLADA  1.472050e+07\n",
       " 1  358130213  AGUA EMBOTELLADA  4.846272e+06\n",
       " 2  358130215  AGUA EMBOTELLADA  3.984154e+06,\n",
       " 'SPRITE':    ProductID     Category        Volume\n",
       " 0  358130586  R. FRUTALES  1.597091e+06\n",
       " 1  358130587  R. FRUTALES  1.258110e+06\n",
       " 2  358130590  R. FRUTALES  9.753609e+05}"
      ]
     },
     "execution_count": 18,
     "metadata": {},
     "output_type": "execute_result"
    }
   ],
   "source": [
    "tccc_top_products = {}  # dict with top TCCC brands : dataframe with top products by Volume\n",
    "for brand in tccc_top['Brand']:\n",
    "    tccc_top_products[brand] = df[df['Brand'] == brand] \\\n",
    "                                .groupby(['ProductID', 'Category']) \\\n",
    "                                .agg({'Volume': 'sum'}) \\\n",
    "                                .sort_values(by='Volume', ascending=False) \\\n",
    "                                .reset_index() \\\n",
    "                                .head(3)\n",
    "tccc_top_products"
   ]
  },
  {
   "cell_type": "markdown",
   "id": "0cff1483-4dd2-460a-8ec1-1cff55bfc53e",
   "metadata": {},
   "source": [
    "### DataFrame of TCCC competitors"
   ]
  },
  {
   "cell_type": "code",
   "execution_count": 19,
   "id": "78d220f3-906c-4d93-aba7-b78e372779fd",
   "metadata": {},
   "outputs": [
    {
     "data": {
      "text/html": [
       "<div>\n",
       "<style scoped>\n",
       "    .dataframe tbody tr th:only-of-type {\n",
       "        vertical-align: middle;\n",
       "    }\n",
       "\n",
       "    .dataframe tbody tr th {\n",
       "        vertical-align: top;\n",
       "    }\n",
       "\n",
       "    .dataframe thead th {\n",
       "        text-align: right;\n",
       "    }\n",
       "</style>\n",
       "<table border=\"1\" class=\"dataframe\">\n",
       "  <thead>\n",
       "    <tr style=\"text-align: right;\">\n",
       "      <th></th>\n",
       "      <th>BaselineDetailID</th>\n",
       "      <th>BaselineID</th>\n",
       "      <th>ProductID</th>\n",
       "      <th>DistributionUnit</th>\n",
       "      <th>CurrencyCode</th>\n",
       "      <th>Price</th>\n",
       "      <th>NSRperUC</th>\n",
       "      <th>EnvironmentalTaxPerUC</th>\n",
       "      <th>OperatingCOGSperUC</th>\n",
       "      <th>WarehouseCostPerUC</th>\n",
       "      <th>...</th>\n",
       "      <th>RatioNonOperatingCOGStoNSR</th>\n",
       "      <th>Distribution</th>\n",
       "      <th>Description</th>\n",
       "      <th>Manufacturer</th>\n",
       "      <th>Category</th>\n",
       "      <th>Brand</th>\n",
       "      <th>Flavor</th>\n",
       "      <th>PackSize</th>\n",
       "      <th>Packaging</th>\n",
       "      <th>Revenue</th>\n",
       "    </tr>\n",
       "  </thead>\n",
       "  <tbody>\n",
       "    <tr>\n",
       "      <th>0</th>\n",
       "      <td>816018</td>\n",
       "      <td>451</td>\n",
       "      <td>358130194</td>\n",
       "      <td>SOUTH</td>\n",
       "      <td>484</td>\n",
       "      <td>62.8757</td>\n",
       "      <td>0.0</td>\n",
       "      <td>0</td>\n",
       "      <td>0.0</td>\n",
       "      <td>0</td>\n",
       "      <td>...</td>\n",
       "      <td>0</td>\n",
       "      <td>0.001</td>\n",
       "      <td>ADAS_PEPSICO_SEVEN UP LIMONADA_LIMON_1500ML_EN...</td>\n",
       "      <td>PEPSICO</td>\n",
       "      <td>ADAS</td>\n",
       "      <td>SEVEN UP LIMONADA</td>\n",
       "      <td>LIMON</td>\n",
       "      <td>1500</td>\n",
       "      <td>BOTELLA DE PLASTICO_NR</td>\n",
       "      <td>4.334210e+06</td>\n",
       "    </tr>\n",
       "    <tr>\n",
       "      <th>1</th>\n",
       "      <td>816019</td>\n",
       "      <td>451</td>\n",
       "      <td>358130194</td>\n",
       "      <td>EAST</td>\n",
       "      <td>484</td>\n",
       "      <td>65.9368</td>\n",
       "      <td>0.0</td>\n",
       "      <td>0</td>\n",
       "      <td>0.0</td>\n",
       "      <td>0</td>\n",
       "      <td>...</td>\n",
       "      <td>0</td>\n",
       "      <td>0.001</td>\n",
       "      <td>ADAS_PEPSICO_SEVEN UP LIMONADA_LIMON_1500ML_EN...</td>\n",
       "      <td>PEPSICO</td>\n",
       "      <td>ADAS</td>\n",
       "      <td>SEVEN UP LIMONADA</td>\n",
       "      <td>LIMON</td>\n",
       "      <td>1500</td>\n",
       "      <td>BOTELLA DE PLASTICO_NR</td>\n",
       "      <td>7.027897e+05</td>\n",
       "    </tr>\n",
       "    <tr>\n",
       "      <th>2</th>\n",
       "      <td>816020</td>\n",
       "      <td>451</td>\n",
       "      <td>358130194</td>\n",
       "      <td>WEST</td>\n",
       "      <td>484</td>\n",
       "      <td>62.8757</td>\n",
       "      <td>0.0</td>\n",
       "      <td>0</td>\n",
       "      <td>0.0</td>\n",
       "      <td>0</td>\n",
       "      <td>...</td>\n",
       "      <td>0</td>\n",
       "      <td>9.000</td>\n",
       "      <td>ADAS_PEPSICO_SEVEN UP LIMONADA_LIMON_1500ML_EN...</td>\n",
       "      <td>PEPSICO</td>\n",
       "      <td>ADAS</td>\n",
       "      <td>SEVEN UP LIMONADA</td>\n",
       "      <td>LIMON</td>\n",
       "      <td>1500</td>\n",
       "      <td>BOTELLA DE PLASTICO_NR</td>\n",
       "      <td>1.000620e+06</td>\n",
       "    </tr>\n",
       "  </tbody>\n",
       "</table>\n",
       "<p>3 rows × 25 columns</p>\n",
       "</div>"
      ],
      "text/plain": [
       "   BaselineDetailID  BaselineID  ProductID DistributionUnit  CurrencyCode  \\\n",
       "0            816018         451  358130194            SOUTH           484   \n",
       "1            816019         451  358130194             EAST           484   \n",
       "2            816020         451  358130194             WEST           484   \n",
       "\n",
       "     Price  NSRperUC  EnvironmentalTaxPerUC  OperatingCOGSperUC  \\\n",
       "0  62.8757       0.0                      0                 0.0   \n",
       "1  65.9368       0.0                      0                 0.0   \n",
       "2  62.8757       0.0                      0                 0.0   \n",
       "\n",
       "   WarehouseCostPerUC  ...  RatioNonOperatingCOGStoNSR  Distribution  \\\n",
       "0                   0  ...                           0         0.001   \n",
       "1                   0  ...                           0         0.001   \n",
       "2                   0  ...                           0         9.000   \n",
       "\n",
       "                                         Description  Manufacturer  Category  \\\n",
       "0  ADAS_PEPSICO_SEVEN UP LIMONADA_LIMON_1500ML_EN...       PEPSICO      ADAS   \n",
       "1  ADAS_PEPSICO_SEVEN UP LIMONADA_LIMON_1500ML_EN...       PEPSICO      ADAS   \n",
       "2  ADAS_PEPSICO_SEVEN UP LIMONADA_LIMON_1500ML_EN...       PEPSICO      ADAS   \n",
       "\n",
       "               Brand  Flavor PackSize               Packaging       Revenue  \n",
       "0  SEVEN UP LIMONADA   LIMON     1500  BOTELLA DE PLASTICO_NR  4.334210e+06  \n",
       "1  SEVEN UP LIMONADA   LIMON     1500  BOTELLA DE PLASTICO_NR  7.027897e+05  \n",
       "2  SEVEN UP LIMONADA   LIMON     1500  BOTELLA DE PLASTICO_NR  1.000620e+06  \n",
       "\n",
       "[3 rows x 25 columns]"
      ]
     },
     "execution_count": 19,
     "metadata": {},
     "output_type": "execute_result"
    }
   ],
   "source": [
    "no_tccc_df = df[(df['Manufacturer'] != 'TCCC')]\n",
    "no_tccc_df.head(3)"
   ]
  },
  {
   "cell_type": "markdown",
   "id": "98317a12-dbb0-409d-bf74-f2bf003792e6",
   "metadata": {},
   "source": [
    "## Top competitors for COCA COLA SKUs\n",
    "Since all COCA COLA (CC) products are in the same category, the competitors' products are the same for each CC product"
   ]
  },
  {
   "cell_type": "code",
   "execution_count": 20,
   "id": "7619ff8c-4f03-4bcb-b701-24cacbc9ae02",
   "metadata": {},
   "outputs": [
    {
     "data": {
      "text/html": [
       "<div>\n",
       "<style scoped>\n",
       "    .dataframe tbody tr th:only-of-type {\n",
       "        vertical-align: middle;\n",
       "    }\n",
       "\n",
       "    .dataframe tbody tr th {\n",
       "        vertical-align: top;\n",
       "    }\n",
       "\n",
       "    .dataframe thead th {\n",
       "        text-align: right;\n",
       "    }\n",
       "</style>\n",
       "<table border=\"1\" class=\"dataframe\">\n",
       "  <thead>\n",
       "    <tr style=\"text-align: right;\">\n",
       "      <th></th>\n",
       "      <th>ProductID</th>\n",
       "      <th>Category</th>\n",
       "      <th>Volume</th>\n",
       "    </tr>\n",
       "  </thead>\n",
       "  <tbody>\n",
       "    <tr>\n",
       "      <th>0</th>\n",
       "      <td>358147329</td>\n",
       "      <td>COLAS</td>\n",
       "      <td>6.337097e+08</td>\n",
       "    </tr>\n",
       "    <tr>\n",
       "      <th>1</th>\n",
       "      <td>358130403</td>\n",
       "      <td>COLAS</td>\n",
       "      <td>4.236299e+07</td>\n",
       "    </tr>\n",
       "    <tr>\n",
       "      <th>2</th>\n",
       "      <td>358130405</td>\n",
       "      <td>COLAS</td>\n",
       "      <td>2.324601e+07</td>\n",
       "    </tr>\n",
       "  </tbody>\n",
       "</table>\n",
       "</div>"
      ],
      "text/plain": [
       "   ProductID Category        Volume\n",
       "0  358147329    COLAS  6.337097e+08\n",
       "1  358130403    COLAS  4.236299e+07\n",
       "2  358130405    COLAS  2.324601e+07"
      ]
     },
     "execution_count": 20,
     "metadata": {},
     "output_type": "execute_result"
    }
   ],
   "source": [
    "tccc_top_products['COCA COLA']"
   ]
  },
  {
   "cell_type": "code",
   "execution_count": 21,
   "id": "d0c3f789-1c40-4857-ad6b-656c1032960a",
   "metadata": {},
   "outputs": [
    {
     "data": {
      "text/html": [
       "<div>\n",
       "<style scoped>\n",
       "    .dataframe tbody tr th:only-of-type {\n",
       "        vertical-align: middle;\n",
       "    }\n",
       "\n",
       "    .dataframe tbody tr th {\n",
       "        vertical-align: top;\n",
       "    }\n",
       "\n",
       "    .dataframe thead th {\n",
       "        text-align: right;\n",
       "    }\n",
       "</style>\n",
       "<table border=\"1\" class=\"dataframe\">\n",
       "  <thead>\n",
       "    <tr style=\"text-align: right;\">\n",
       "      <th></th>\n",
       "      <th>ProductID</th>\n",
       "      <th>Volume</th>\n",
       "    </tr>\n",
       "  </thead>\n",
       "  <tbody>\n",
       "    <tr>\n",
       "      <th>0</th>\n",
       "      <td>358130417</td>\n",
       "      <td>1.458619e+07</td>\n",
       "    </tr>\n",
       "    <tr>\n",
       "      <th>1</th>\n",
       "      <td>358130420</td>\n",
       "      <td>1.173057e+07</td>\n",
       "    </tr>\n",
       "    <tr>\n",
       "      <th>2</th>\n",
       "      <td>358130416</td>\n",
       "      <td>7.835953e+06</td>\n",
       "    </tr>\n",
       "  </tbody>\n",
       "</table>\n",
       "</div>"
      ],
      "text/plain": [
       "   ProductID        Volume\n",
       "0  358130417  1.458619e+07\n",
       "1  358130420  1.173057e+07\n",
       "2  358130416  7.835953e+06"
      ]
     },
     "execution_count": 21,
     "metadata": {},
     "output_type": "execute_result"
    }
   ],
   "source": [
    "# get products that are in the same category that CC SKUs, and get top-3 of them by Volume\n",
    "cc_competitors = no_tccc_df[(no_tccc_df['Brand'] != 'COCA COLA') & (no_tccc_df['Category'] == 'COLAS')] \\\n",
    "                            .groupby('ProductID') \\\n",
    "                            .agg({'Volume': 'sum'}) \\\n",
    "                            .sort_values(by='Volume', ascending=False) \\\n",
    "                            .reset_index() \\\n",
    "                            .head(3)\n",
    "cc_competitors"
   ]
  },
  {
   "cell_type": "code",
   "execution_count": 22,
   "id": "b908e795-15c3-41b5-939f-709a14f36438",
   "metadata": {},
   "outputs": [
    {
     "data": {
      "text/plain": [
       "array(['PEPSI COLA'], dtype=object)"
      ]
     },
     "execution_count": 22,
     "metadata": {},
     "output_type": "execute_result"
    }
   ],
   "source": [
    "# list of COCA COLA competitor brands\n",
    "cc_comp_mask = (no_tccc_df['ProductID'].isin(cc_competitors['ProductID']))\n",
    "no_tccc_df[cc_comp_mask]['Brand'].unique()"
   ]
  },
  {
   "cell_type": "markdown",
   "id": "a007c6b3-d53e-473d-91b0-d5525e3c73c3",
   "metadata": {},
   "source": [
    "As we see, the only competitor to COCA COLA products is PEPSI COLA brand. \n",
    "<br>The volume of PEPSI COLA products is much (~ 1.5-40 times) less than the volume of COCA COLA products."
   ]
  },
  {
   "cell_type": "markdown",
   "id": "bbcc3599-3ba9-4a1a-8ada-216ae41a959c",
   "metadata": {},
   "source": [
    "## Top competitors for CIEL SKUs\n",
    "Since all CIEL products are in the same category, the competitors' products are the same for each CIEL product"
   ]
  },
  {
   "cell_type": "code",
   "execution_count": 23,
   "id": "256fc6c7-b4cb-4b8d-add8-ab97c2180c64",
   "metadata": {},
   "outputs": [
    {
     "data": {
      "text/html": [
       "<div>\n",
       "<style scoped>\n",
       "    .dataframe tbody tr th:only-of-type {\n",
       "        vertical-align: middle;\n",
       "    }\n",
       "\n",
       "    .dataframe tbody tr th {\n",
       "        vertical-align: top;\n",
       "    }\n",
       "\n",
       "    .dataframe thead th {\n",
       "        text-align: right;\n",
       "    }\n",
       "</style>\n",
       "<table border=\"1\" class=\"dataframe\">\n",
       "  <thead>\n",
       "    <tr style=\"text-align: right;\">\n",
       "      <th></th>\n",
       "      <th>ProductID</th>\n",
       "      <th>Category</th>\n",
       "      <th>Volume</th>\n",
       "    </tr>\n",
       "  </thead>\n",
       "  <tbody>\n",
       "    <tr>\n",
       "      <th>0</th>\n",
       "      <td>358130211</td>\n",
       "      <td>AGUA EMBOTELLADA</td>\n",
       "      <td>1.472050e+07</td>\n",
       "    </tr>\n",
       "    <tr>\n",
       "      <th>1</th>\n",
       "      <td>358130213</td>\n",
       "      <td>AGUA EMBOTELLADA</td>\n",
       "      <td>4.846272e+06</td>\n",
       "    </tr>\n",
       "    <tr>\n",
       "      <th>2</th>\n",
       "      <td>358130215</td>\n",
       "      <td>AGUA EMBOTELLADA</td>\n",
       "      <td>3.984154e+06</td>\n",
       "    </tr>\n",
       "  </tbody>\n",
       "</table>\n",
       "</div>"
      ],
      "text/plain": [
       "   ProductID          Category        Volume\n",
       "0  358130211  AGUA EMBOTELLADA  1.472050e+07\n",
       "1  358130213  AGUA EMBOTELLADA  4.846272e+06\n",
       "2  358130215  AGUA EMBOTELLADA  3.984154e+06"
      ]
     },
     "execution_count": 23,
     "metadata": {},
     "output_type": "execute_result"
    }
   ],
   "source": [
    "tccc_top_products['CIEL']"
   ]
  },
  {
   "cell_type": "code",
   "execution_count": 24,
   "id": "40ac034e-e612-4457-b806-7cf8983ad8fc",
   "metadata": {},
   "outputs": [
    {
     "data": {
      "text/html": [
       "<div>\n",
       "<style scoped>\n",
       "    .dataframe tbody tr th:only-of-type {\n",
       "        vertical-align: middle;\n",
       "    }\n",
       "\n",
       "    .dataframe tbody tr th {\n",
       "        vertical-align: top;\n",
       "    }\n",
       "\n",
       "    .dataframe thead th {\n",
       "        text-align: right;\n",
       "    }\n",
       "</style>\n",
       "<table border=\"1\" class=\"dataframe\">\n",
       "  <thead>\n",
       "    <tr style=\"text-align: right;\">\n",
       "      <th></th>\n",
       "      <th>ProductID</th>\n",
       "      <th>Volume</th>\n",
       "    </tr>\n",
       "  </thead>\n",
       "  <tbody>\n",
       "    <tr>\n",
       "      <th>0</th>\n",
       "      <td>358130212</td>\n",
       "      <td>1.406443e+07</td>\n",
       "    </tr>\n",
       "    <tr>\n",
       "      <th>1</th>\n",
       "      <td>358130214</td>\n",
       "      <td>5.361399e+06</td>\n",
       "    </tr>\n",
       "    <tr>\n",
       "      <th>2</th>\n",
       "      <td>358130220</td>\n",
       "      <td>2.514826e+06</td>\n",
       "    </tr>\n",
       "  </tbody>\n",
       "</table>\n",
       "</div>"
      ],
      "text/plain": [
       "   ProductID        Volume\n",
       "0  358130212  1.406443e+07\n",
       "1  358130214  5.361399e+06\n",
       "2  358130220  2.514826e+06"
      ]
     },
     "execution_count": 24,
     "metadata": {},
     "output_type": "execute_result"
    }
   ],
   "source": [
    "# get products that are in the same category that CIEL SKUs, and get top-3 of them by Volume\n",
    "ciel_competitors = no_tccc_df[(no_tccc_df['Brand'] != 'CIEL') \n",
    "                               & (no_tccc_df['Category'] == 'AGUA EMBOTELLADA')].groupby('ProductID') \\\n",
    "                                .agg({'Volume': 'sum'}) \\\n",
    "                                .sort_values(by='Volume', ascending=False) \\\n",
    "                                .reset_index() \\\n",
    "                                .head(3)\n",
    "ciel_competitors"
   ]
  },
  {
   "cell_type": "code",
   "execution_count": 25,
   "id": "d75b6f73-db0d-4bf9-b47c-81a5b51467c3",
   "metadata": {},
   "outputs": [
    {
     "data": {
      "text/plain": [
       "array(['E-PURA', 'BONAFONT'], dtype=object)"
      ]
     },
     "execution_count": 25,
     "metadata": {},
     "output_type": "execute_result"
    }
   ],
   "source": [
    "# list of CIEL competitor brands\n",
    "ciel_comp_mask = (no_tccc_df['ProductID'].isin(ciel_competitors['ProductID']))\n",
    "no_tccc_df[ciel_comp_mask]['Brand'].unique()"
   ]
  },
  {
   "cell_type": "markdown",
   "id": "2520f776-7832-49e9-899d-5a2b5e96109d",
   "metadata": {},
   "source": [
    "CIEL competitors are E-PURA and BONAFONT.\n",
    "<br>CIEL competitors are almost on the same level based on Volume metric."
   ]
  },
  {
   "cell_type": "markdown",
   "id": "23e085b0-8885-45d0-937a-ff49757bedca",
   "metadata": {},
   "source": [
    "## Top competitors for SPRITE SKUs\n",
    "Since all SPRITE products are in the same category, the competitors' products are the same for each SPRITE product"
   ]
  },
  {
   "cell_type": "code",
   "execution_count": 26,
   "id": "b9f901c2-ffcb-4093-b2ff-46a248cba348",
   "metadata": {},
   "outputs": [
    {
     "data": {
      "text/html": [
       "<div>\n",
       "<style scoped>\n",
       "    .dataframe tbody tr th:only-of-type {\n",
       "        vertical-align: middle;\n",
       "    }\n",
       "\n",
       "    .dataframe tbody tr th {\n",
       "        vertical-align: top;\n",
       "    }\n",
       "\n",
       "    .dataframe thead th {\n",
       "        text-align: right;\n",
       "    }\n",
       "</style>\n",
       "<table border=\"1\" class=\"dataframe\">\n",
       "  <thead>\n",
       "    <tr style=\"text-align: right;\">\n",
       "      <th></th>\n",
       "      <th>ProductID</th>\n",
       "      <th>Category</th>\n",
       "      <th>Volume</th>\n",
       "    </tr>\n",
       "  </thead>\n",
       "  <tbody>\n",
       "    <tr>\n",
       "      <th>0</th>\n",
       "      <td>358130586</td>\n",
       "      <td>R. FRUTALES</td>\n",
       "      <td>1.597091e+06</td>\n",
       "    </tr>\n",
       "    <tr>\n",
       "      <th>1</th>\n",
       "      <td>358130587</td>\n",
       "      <td>R. FRUTALES</td>\n",
       "      <td>1.258110e+06</td>\n",
       "    </tr>\n",
       "    <tr>\n",
       "      <th>2</th>\n",
       "      <td>358130590</td>\n",
       "      <td>R. FRUTALES</td>\n",
       "      <td>9.753609e+05</td>\n",
       "    </tr>\n",
       "  </tbody>\n",
       "</table>\n",
       "</div>"
      ],
      "text/plain": [
       "   ProductID     Category        Volume\n",
       "0  358130586  R. FRUTALES  1.597091e+06\n",
       "1  358130587  R. FRUTALES  1.258110e+06\n",
       "2  358130590  R. FRUTALES  9.753609e+05"
      ]
     },
     "execution_count": 26,
     "metadata": {},
     "output_type": "execute_result"
    }
   ],
   "source": [
    "tccc_top_products['SPRITE']"
   ]
  },
  {
   "cell_type": "code",
   "execution_count": 27,
   "id": "75a1df00-2ae7-45db-a49e-22028d9910c4",
   "metadata": {},
   "outputs": [
    {
     "data": {
      "text/html": [
       "<div>\n",
       "<style scoped>\n",
       "    .dataframe tbody tr th:only-of-type {\n",
       "        vertical-align: middle;\n",
       "    }\n",
       "\n",
       "    .dataframe tbody tr th {\n",
       "        vertical-align: top;\n",
       "    }\n",
       "\n",
       "    .dataframe thead th {\n",
       "        text-align: right;\n",
       "    }\n",
       "</style>\n",
       "<table border=\"1\" class=\"dataframe\">\n",
       "  <thead>\n",
       "    <tr style=\"text-align: right;\">\n",
       "      <th></th>\n",
       "      <th>ProductID</th>\n",
       "      <th>Volume</th>\n",
       "    </tr>\n",
       "  </thead>\n",
       "  <tbody>\n",
       "    <tr>\n",
       "      <th>0</th>\n",
       "      <td>358130584</td>\n",
       "      <td>7.704361e+06</td>\n",
       "    </tr>\n",
       "    <tr>\n",
       "      <th>1</th>\n",
       "      <td>358130593</td>\n",
       "      <td>2.742335e+06</td>\n",
       "    </tr>\n",
       "    <tr>\n",
       "      <th>2</th>\n",
       "      <td>358130707</td>\n",
       "      <td>2.415774e+06</td>\n",
       "    </tr>\n",
       "  </tbody>\n",
       "</table>\n",
       "</div>"
      ],
      "text/plain": [
       "   ProductID        Volume\n",
       "0  358130584  7.704361e+06\n",
       "1  358130593  2.742335e+06\n",
       "2  358130707  2.415774e+06"
      ]
     },
     "execution_count": 27,
     "metadata": {},
     "output_type": "execute_result"
    }
   ],
   "source": [
    "# get products that are in the same category that SPRITE SKUs, and get top-3 of them by Volume\n",
    "sprite_competitors = no_tccc_df[(no_tccc_df['Brand'] != 'SPRITE') \n",
    "                               & (no_tccc_df['Category'] == 'R. FRUTALES')].groupby('ProductID') \\\n",
    "                                .agg({'Volume': 'sum'}) \\\n",
    "                                .sort_values(by='Volume', ascending=False) \\\n",
    "                                .reset_index() \\\n",
    "                                .head(3)\n",
    "sprite_competitors"
   ]
  },
  {
   "cell_type": "code",
   "execution_count": 28,
   "id": "0258298a-c6ca-4359-82e5-c7c52a37064e",
   "metadata": {},
   "outputs": [
    {
     "data": {
      "text/plain": [
       "array(['SQUIRT', 'SEVEN UP', 'AGA'], dtype=object)"
      ]
     },
     "execution_count": 28,
     "metadata": {},
     "output_type": "execute_result"
    }
   ],
   "source": [
    "# list of SPRITE competitor brands\n",
    "sprite_comp_mask = (no_tccc_df['ProductID'].isin(sprite_competitors['ProductID']))\n",
    "no_tccc_df[sprite_comp_mask]['Brand'].unique()"
   ]
  },
  {
   "cell_type": "code",
   "execution_count": 29,
   "id": "8f637cc3-f6f4-403d-99cf-058463d27b3c",
   "metadata": {},
   "outputs": [
    {
     "data": {
      "text/plain": [
       "array(['SQUIRT'], dtype=object)"
      ]
     },
     "execution_count": 29,
     "metadata": {},
     "output_type": "execute_result"
    }
   ],
   "source": [
    "no_tccc_df[no_tccc_df['ProductID'] == 358130584]['Brand'].unique()"
   ]
  },
  {
   "cell_type": "markdown",
   "id": "1af7b1e6-4b91-4594-9d35-55e3e450ba77",
   "metadata": {},
   "source": [
    "SPRITE competitors are SQUIRT, SEVEN UP, and AGA.\n",
    "<br>SPRITE competitors are better than SPRITE based on Volume metric. The top Volume of SQUIRT is 4.8 times greater than the top Volume of SPRITE"
   ]
  },
  {
   "cell_type": "markdown",
   "id": "d5a3fa80-6248-4ebc-9689-a5b7348b27de",
   "metadata": {},
   "source": [
    "# Product Performance:\n",
    "\n",
    "- what are the key products that must always be presented in the store to avoid loss of sales? (Hist Exit Rates)\n"
   ]
  },
  {
   "cell_type": "code",
   "execution_count": 30,
   "id": "ed2a0507-29cb-4baa-9353-ee2c9d4d5eae",
   "metadata": {},
   "outputs": [],
   "source": [
    "# add the column of the absolute amount of the lost volume\n",
    "df['LostVolume'] = df['Volume'] * df['ExitRate']"
   ]
  },
  {
   "cell_type": "code",
   "execution_count": 31,
   "id": "4cda3d87-b491-4747-821d-0da3ff275f58",
   "metadata": {},
   "outputs": [
    {
     "data": {
      "text/html": [
       "<div>\n",
       "<style scoped>\n",
       "    .dataframe tbody tr th:only-of-type {\n",
       "        vertical-align: middle;\n",
       "    }\n",
       "\n",
       "    .dataframe tbody tr th {\n",
       "        vertical-align: top;\n",
       "    }\n",
       "\n",
       "    .dataframe thead th {\n",
       "        text-align: right;\n",
       "    }\n",
       "</style>\n",
       "<table border=\"1\" class=\"dataframe\">\n",
       "  <thead>\n",
       "    <tr style=\"text-align: right;\">\n",
       "      <th></th>\n",
       "      <th></th>\n",
       "      <th>LostVolume</th>\n",
       "    </tr>\n",
       "    <tr>\n",
       "      <th>ProductID</th>\n",
       "      <th>Brand</th>\n",
       "      <th></th>\n",
       "    </tr>\n",
       "  </thead>\n",
       "  <tbody>\n",
       "    <tr>\n",
       "      <th>358147329</th>\n",
       "      <th>COCA COLA</th>\n",
       "      <td>9.093735e+09</td>\n",
       "    </tr>\n",
       "    <tr>\n",
       "      <th>358130403</th>\n",
       "      <th>COCA COLA</th>\n",
       "      <td>5.982561e+08</td>\n",
       "    </tr>\n",
       "    <tr>\n",
       "      <th>358130405</th>\n",
       "      <th>COCA COLA</th>\n",
       "      <td>2.854950e+08</td>\n",
       "    </tr>\n",
       "    <tr>\n",
       "      <th>358146312</th>\n",
       "      <th>COCA COLA</th>\n",
       "      <td>2.640400e+08</td>\n",
       "    </tr>\n",
       "    <tr>\n",
       "      <th>358146307</th>\n",
       "      <th>COCA COLA</th>\n",
       "      <td>2.640400e+08</td>\n",
       "    </tr>\n",
       "  </tbody>\n",
       "</table>\n",
       "</div>"
      ],
      "text/plain": [
       "                       LostVolume\n",
       "ProductID Brand                  \n",
       "358147329 COCA COLA  9.093735e+09\n",
       "358130403 COCA COLA  5.982561e+08\n",
       "358130405 COCA COLA  2.854950e+08\n",
       "358146312 COCA COLA  2.640400e+08\n",
       "358146307 COCA COLA  2.640400e+08"
      ]
     },
     "execution_count": 31,
     "metadata": {},
     "output_type": "execute_result"
    }
   ],
   "source": [
    "# get top-5 products with brands with the biggest volume loss\n",
    "df.groupby(['ProductID', 'Brand']) \\\n",
    "  .agg({'LostVolume': 'sum'}) \\\n",
    "  .sort_values('LostVolume', ascending=False) \\\n",
    "  .head()"
   ]
  },
  {
   "cell_type": "markdown",
   "id": "4738ea77-ecd0-447f-bd1d-458c471ddab8",
   "metadata": {},
   "source": [
    "\n",
    "- what are the key products for which price change can lead to an unprofitable loss of sales? (Hint: Elasticity)"
   ]
  },
  {
   "cell_type": "code",
   "execution_count": 32,
   "id": "30d930f2-4eab-4cfc-aad9-6a3929236b9c",
   "metadata": {},
   "outputs": [],
   "source": [
    "# add the column of the loss of revenue\n",
    "df['RevenueLoss'] = df['Revenue'] * df['PriceElasticity']"
   ]
  },
  {
   "cell_type": "code",
   "execution_count": 33,
   "id": "3c697f2b-e2cd-4cd1-9533-2612df5e0300",
   "metadata": {},
   "outputs": [
    {
     "data": {
      "text/html": [
       "<div>\n",
       "<style scoped>\n",
       "    .dataframe tbody tr th:only-of-type {\n",
       "        vertical-align: middle;\n",
       "    }\n",
       "\n",
       "    .dataframe tbody tr th {\n",
       "        vertical-align: top;\n",
       "    }\n",
       "\n",
       "    .dataframe thead th {\n",
       "        text-align: right;\n",
       "    }\n",
       "</style>\n",
       "<table border=\"1\" class=\"dataframe\">\n",
       "  <thead>\n",
       "    <tr style=\"text-align: right;\">\n",
       "      <th></th>\n",
       "      <th></th>\n",
       "      <th>RevenueLoss</th>\n",
       "    </tr>\n",
       "    <tr>\n",
       "      <th>ProductID</th>\n",
       "      <th>Brand</th>\n",
       "      <th></th>\n",
       "    </tr>\n",
       "  </thead>\n",
       "  <tbody>\n",
       "    <tr>\n",
       "      <th>358147329</th>\n",
       "      <th>COCA COLA</th>\n",
       "      <td>-8.053183e+10</td>\n",
       "    </tr>\n",
       "    <tr>\n",
       "      <th>358147326</th>\n",
       "      <th>COCA COLA</th>\n",
       "      <td>-3.588000e+09</td>\n",
       "    </tr>\n",
       "    <tr>\n",
       "      <th>358130403</th>\n",
       "      <th>COCA COLA</th>\n",
       "      <td>-2.487830e+09</td>\n",
       "    </tr>\n",
       "    <tr>\n",
       "      <th>358146312</th>\n",
       "      <th>COCA COLA</th>\n",
       "      <td>-2.351520e+09</td>\n",
       "    </tr>\n",
       "    <tr>\n",
       "      <th>358146307</th>\n",
       "      <th>COCA COLA</th>\n",
       "      <td>-2.351520e+09</td>\n",
       "    </tr>\n",
       "  </tbody>\n",
       "</table>\n",
       "</div>"
      ],
      "text/plain": [
       "                      RevenueLoss\n",
       "ProductID Brand                  \n",
       "358147329 COCA COLA -8.053183e+10\n",
       "358147326 COCA COLA -3.588000e+09\n",
       "358130403 COCA COLA -2.487830e+09\n",
       "358146312 COCA COLA -2.351520e+09\n",
       "358146307 COCA COLA -2.351520e+09"
      ]
     },
     "execution_count": 33,
     "metadata": {},
     "output_type": "execute_result"
    }
   ],
   "source": [
    "df.groupby(['ProductID', 'Brand']) \\\n",
    "  .agg({'RevenueLoss':'sum'}) \\\n",
    "  .sort_values('RevenueLoss') \\\n",
    "  .head()"
   ]
  },
  {
   "cell_type": "code",
   "execution_count": null,
   "id": "52a89253-ec10-4241-a473-fe570b271c11",
   "metadata": {},
   "outputs": [],
   "source": []
  }
 ],
 "metadata": {
  "kernelspec": {
   "display_name": "Python 3",
   "language": "python",
   "name": "python3"
  },
  "language_info": {
   "codemirror_mode": {
    "name": "ipython",
    "version": 3
   },
   "file_extension": ".py",
   "mimetype": "text/x-python",
   "name": "python",
   "nbconvert_exporter": "python",
   "pygments_lexer": "ipython3",
   "version": "3.8.8"
  }
 },
 "nbformat": 4,
 "nbformat_minor": 5
}
