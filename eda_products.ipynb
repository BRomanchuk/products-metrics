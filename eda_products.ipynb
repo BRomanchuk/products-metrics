{
 "cells": [
  {
   "cell_type": "markdown",
   "id": "65f9f645-5313-40f7-81ba-8ea40a53c594",
   "metadata": {},
   "source": [
    "### Overview of the dataset:\n",
    "The attached dataset is a baseline – aggregated data holding key performance metrics across different selling points for different products. Each product can be represented in different selling points (DistributionUnit) and have different prices depending on where is being sold.\n",
    "\n",
    "### Explanation of some fields:\n",
    "\n",
    "\n",
    "BaselineDetailID – Id of the product in the DistributionUnit\n",
    "\n",
    "BaselineID – ID of current baseline.\n",
    "\n",
    "ProductID – General ID of the Product\n",
    "\n",
    "DistributionUnit – sales channel.\n",
    "\n",
    "NSRperUC -  Net Sales Revenue Per Unit Case, presented only for TCCC Manufacturer.\n",
    "\n",
    "COGS – Cost of goods sold\n",
    "\n",
    "ExitRate – Percentage of the volume that will be lost if the product is not represented in the store\n",
    "\n",
    "### Overview of the task:\n",
    "Create an executive summary for a provided baseline that can be shown to a market owner to help him better understand the market structure and TCCC's position. Below is the list of the visualizations that might be helpful, but this list is not a hard restriction.\n",
    "\n",
    "### High-level aggregations:\n",
    "\n",
    "- top Manufacturers\n",
    "\n",
    "- top Brands by Volume and Manufacturer\n",
    "\n",
    "- top Categories by Volume\n",
    "\n",
    "- top Brand PackSize by Channel and Manufacturer by Volume for all, by Revenue for TCCC\n",
    "\n",
    "### Competitor selection:\n",
    "\n",
    "- for the top 3 TCCC brands: the top 3 SKUs from each brand present the most suitable competitor SKU.\n",
    "Describe what criteria are used to define competitor SKU and why. How do TCCC SKUs perform in contrast to competitor SKUs?\n",
    "\n",
    "### Product Performance:\n",
    "\n",
    "- what are the key products that must always be presented in the store to avoid loss of sales? (Hist Exit Rates)\n",
    "- what are the key products for which price change can lead to an unprofitable loss of sales? (Hint: Elasticity)\n",
    "\n",
    "The result should be presented in a jupyter-notebook with clear, interactive visualizations. "
   ]
  },
  {
   "cell_type": "code",
   "execution_count": 1,
   "id": "7e1d1542-f685-4264-b4df-59e8d16270d4",
   "metadata": {},
   "outputs": [],
   "source": [
    "import numpy as np\n",
    "import pandas as pd\n",
    "import matplotlib.pyplot as plt"
   ]
  },
  {
   "cell_type": "code",
   "execution_count": 2,
   "id": "50a288ce-df61-4c95-8149-aeff8de3abf9",
   "metadata": {},
   "outputs": [
    {
     "data": {
      "text/html": [
       "<div>\n",
       "<style scoped>\n",
       "    .dataframe tbody tr th:only-of-type {\n",
       "        vertical-align: middle;\n",
       "    }\n",
       "\n",
       "    .dataframe tbody tr th {\n",
       "        vertical-align: top;\n",
       "    }\n",
       "\n",
       "    .dataframe thead th {\n",
       "        text-align: right;\n",
       "    }\n",
       "</style>\n",
       "<table border=\"1\" class=\"dataframe\">\n",
       "  <thead>\n",
       "    <tr style=\"text-align: right;\">\n",
       "      <th></th>\n",
       "      <th>BaselineDetailID</th>\n",
       "      <th>BaselineID</th>\n",
       "      <th>ProductID</th>\n",
       "      <th>DistributionUnit</th>\n",
       "      <th>CurrencyCode</th>\n",
       "      <th>Price</th>\n",
       "      <th>NSRperUC</th>\n",
       "      <th>EnvironmentalTaxPerUC</th>\n",
       "      <th>OperatingCOGSperUC</th>\n",
       "      <th>WarehouseCostPerUC</th>\n",
       "      <th>...</th>\n",
       "      <th>ExitRate</th>\n",
       "      <th>RatioNonOperatingCOGStoNSR</th>\n",
       "      <th>Distribution</th>\n",
       "      <th>Description</th>\n",
       "      <th>Manufacturer</th>\n",
       "      <th>Category</th>\n",
       "      <th>Brand</th>\n",
       "      <th>Flavor</th>\n",
       "      <th>PackSize</th>\n",
       "      <th>Packaging</th>\n",
       "    </tr>\n",
       "  </thead>\n",
       "  <tbody>\n",
       "    <tr>\n",
       "      <th>0</th>\n",
       "      <td>816018</td>\n",
       "      <td>451</td>\n",
       "      <td>358130194</td>\n",
       "      <td>SOUTH</td>\n",
       "      <td>484</td>\n",
       "      <td>62.8757</td>\n",
       "      <td>0.00000</td>\n",
       "      <td>0</td>\n",
       "      <td>0.000</td>\n",
       "      <td>0</td>\n",
       "      <td>...</td>\n",
       "      <td>12.71589</td>\n",
       "      <td>0</td>\n",
       "      <td>0.00100</td>\n",
       "      <td>ADAS_PEPSICO_SEVEN UP LIMONADA_LIMON_1500ML_EN...</td>\n",
       "      <td>PEPSICO</td>\n",
       "      <td>ADAS</td>\n",
       "      <td>SEVEN UP LIMONADA</td>\n",
       "      <td>LIMON</td>\n",
       "      <td>1500</td>\n",
       "      <td>BOTELLA DE PLASTICO_NR</td>\n",
       "    </tr>\n",
       "    <tr>\n",
       "      <th>1</th>\n",
       "      <td>816019</td>\n",
       "      <td>451</td>\n",
       "      <td>358130194</td>\n",
       "      <td>EAST</td>\n",
       "      <td>484</td>\n",
       "      <td>65.9368</td>\n",
       "      <td>0.00000</td>\n",
       "      <td>0</td>\n",
       "      <td>0.000</td>\n",
       "      <td>0</td>\n",
       "      <td>...</td>\n",
       "      <td>12.71589</td>\n",
       "      <td>0</td>\n",
       "      <td>0.00100</td>\n",
       "      <td>ADAS_PEPSICO_SEVEN UP LIMONADA_LIMON_1500ML_EN...</td>\n",
       "      <td>PEPSICO</td>\n",
       "      <td>ADAS</td>\n",
       "      <td>SEVEN UP LIMONADA</td>\n",
       "      <td>LIMON</td>\n",
       "      <td>1500</td>\n",
       "      <td>BOTELLA DE PLASTICO_NR</td>\n",
       "    </tr>\n",
       "    <tr>\n",
       "      <th>2</th>\n",
       "      <td>816020</td>\n",
       "      <td>451</td>\n",
       "      <td>358130194</td>\n",
       "      <td>WEST</td>\n",
       "      <td>484</td>\n",
       "      <td>62.8757</td>\n",
       "      <td>0.00000</td>\n",
       "      <td>0</td>\n",
       "      <td>0.000</td>\n",
       "      <td>0</td>\n",
       "      <td>...</td>\n",
       "      <td>12.71589</td>\n",
       "      <td>0</td>\n",
       "      <td>9.00000</td>\n",
       "      <td>ADAS_PEPSICO_SEVEN UP LIMONADA_LIMON_1500ML_EN...</td>\n",
       "      <td>PEPSICO</td>\n",
       "      <td>ADAS</td>\n",
       "      <td>SEVEN UP LIMONADA</td>\n",
       "      <td>LIMON</td>\n",
       "      <td>1500</td>\n",
       "      <td>BOTELLA DE PLASTICO_NR</td>\n",
       "    </tr>\n",
       "    <tr>\n",
       "      <th>3</th>\n",
       "      <td>816021</td>\n",
       "      <td>451</td>\n",
       "      <td>358130194</td>\n",
       "      <td>NORTH</td>\n",
       "      <td>484</td>\n",
       "      <td>62.8757</td>\n",
       "      <td>0.00000</td>\n",
       "      <td>0</td>\n",
       "      <td>0.000</td>\n",
       "      <td>0</td>\n",
       "      <td>...</td>\n",
       "      <td>12.71589</td>\n",
       "      <td>0</td>\n",
       "      <td>0.00100</td>\n",
       "      <td>ADAS_PEPSICO_SEVEN UP LIMONADA_LIMON_1500ML_EN...</td>\n",
       "      <td>PEPSICO</td>\n",
       "      <td>ADAS</td>\n",
       "      <td>SEVEN UP LIMONADA</td>\n",
       "      <td>LIMON</td>\n",
       "      <td>1500</td>\n",
       "      <td>BOTELLA DE PLASTICO_NR</td>\n",
       "    </tr>\n",
       "    <tr>\n",
       "      <th>4</th>\n",
       "      <td>816014</td>\n",
       "      <td>451</td>\n",
       "      <td>358130195</td>\n",
       "      <td>SOUTH</td>\n",
       "      <td>484</td>\n",
       "      <td>126.7034</td>\n",
       "      <td>75.13333</td>\n",
       "      <td>0</td>\n",
       "      <td>22.429</td>\n",
       "      <td>0</td>\n",
       "      <td>...</td>\n",
       "      <td>9.63984</td>\n",
       "      <td>0</td>\n",
       "      <td>0.12124</td>\n",
       "      <td>ADAS_COCA-COLA COMPANY_DEL VALLE Y NADA_NARANJ...</td>\n",
       "      <td>TCCC</td>\n",
       "      <td>ADAS</td>\n",
       "      <td>DEL VALLE Y NADA</td>\n",
       "      <td>NARANJA</td>\n",
       "      <td>600</td>\n",
       "      <td>BOTELLA DE PLASTICO_NR</td>\n",
       "    </tr>\n",
       "  </tbody>\n",
       "</table>\n",
       "<p>5 rows × 24 columns</p>\n",
       "</div>"
      ],
      "text/plain": [
       "   BaselineDetailID  BaselineID  ProductID DistributionUnit  CurrencyCode  \\\n",
       "0            816018         451  358130194            SOUTH           484   \n",
       "1            816019         451  358130194             EAST           484   \n",
       "2            816020         451  358130194             WEST           484   \n",
       "3            816021         451  358130194            NORTH           484   \n",
       "4            816014         451  358130195            SOUTH           484   \n",
       "\n",
       "      Price  NSRperUC  EnvironmentalTaxPerUC  OperatingCOGSperUC  \\\n",
       "0   62.8757   0.00000                      0               0.000   \n",
       "1   65.9368   0.00000                      0               0.000   \n",
       "2   62.8757   0.00000                      0               0.000   \n",
       "3   62.8757   0.00000                      0               0.000   \n",
       "4  126.7034  75.13333                      0              22.429   \n",
       "\n",
       "   WarehouseCostPerUC  ...  ExitRate  RatioNonOperatingCOGStoNSR  \\\n",
       "0                   0  ...  12.71589                           0   \n",
       "1                   0  ...  12.71589                           0   \n",
       "2                   0  ...  12.71589                           0   \n",
       "3                   0  ...  12.71589                           0   \n",
       "4                   0  ...   9.63984                           0   \n",
       "\n",
       "   Distribution                                        Description  \\\n",
       "0       0.00100  ADAS_PEPSICO_SEVEN UP LIMONADA_LIMON_1500ML_EN...   \n",
       "1       0.00100  ADAS_PEPSICO_SEVEN UP LIMONADA_LIMON_1500ML_EN...   \n",
       "2       9.00000  ADAS_PEPSICO_SEVEN UP LIMONADA_LIMON_1500ML_EN...   \n",
       "3       0.00100  ADAS_PEPSICO_SEVEN UP LIMONADA_LIMON_1500ML_EN...   \n",
       "4       0.12124  ADAS_COCA-COLA COMPANY_DEL VALLE Y NADA_NARANJ...   \n",
       "\n",
       "   Manufacturer  Category              Brand   Flavor PackSize  \\\n",
       "0       PEPSICO      ADAS  SEVEN UP LIMONADA    LIMON     1500   \n",
       "1       PEPSICO      ADAS  SEVEN UP LIMONADA    LIMON     1500   \n",
       "2       PEPSICO      ADAS  SEVEN UP LIMONADA    LIMON     1500   \n",
       "3       PEPSICO      ADAS  SEVEN UP LIMONADA    LIMON     1500   \n",
       "4          TCCC      ADAS   DEL VALLE Y NADA  NARANJA      600   \n",
       "\n",
       "                Packaging  \n",
       "0  BOTELLA DE PLASTICO_NR  \n",
       "1  BOTELLA DE PLASTICO_NR  \n",
       "2  BOTELLA DE PLASTICO_NR  \n",
       "3  BOTELLA DE PLASTICO_NR  \n",
       "4  BOTELLA DE PLASTICO_NR  \n",
       "\n",
       "[5 rows x 24 columns]"
      ]
     },
     "execution_count": 2,
     "metadata": {},
     "output_type": "execute_result"
    }
   ],
   "source": [
    "df = pd.read_excel('DemoBaseline.xlsx')\n",
    "df.head()"
   ]
  },
  {
   "cell_type": "code",
   "execution_count": 3,
   "id": "c3125b4b-0fd9-446f-86e9-b00d6c488c25",
   "metadata": {},
   "outputs": [
    {
     "data": {
      "text/plain": [
       "(2843, 24)"
      ]
     },
     "execution_count": 3,
     "metadata": {},
     "output_type": "execute_result"
    }
   ],
   "source": [
    "df.shape"
   ]
  },
  {
   "cell_type": "code",
   "execution_count": 4,
   "id": "72cd4afe-9c65-4e7b-9cc1-955498beed2a",
   "metadata": {},
   "outputs": [
    {
     "data": {
      "text/plain": [
       "Index(['BaselineDetailID', 'BaselineID', 'ProductID', 'DistributionUnit',\n",
       "       'CurrencyCode', 'Price', 'NSRperUC', 'EnvironmentalTaxPerUC',\n",
       "       'OperatingCOGSperUC', 'WarehouseCostPerUC', 'DistributionCostPerUC',\n",
       "       'TransactionsPerUC', 'Volume', 'PriceElasticity', 'ExitRate',\n",
       "       'RatioNonOperatingCOGStoNSR', 'Distribution', 'Description',\n",
       "       'Manufacturer', 'Category', 'Brand', 'Flavor', 'PackSize', 'Packaging'],\n",
       "      dtype='object')"
      ]
     },
     "execution_count": 4,
     "metadata": {},
     "output_type": "execute_result"
    }
   ],
   "source": [
    "df.columns"
   ]
  },
  {
   "cell_type": "markdown",
   "id": "7082a846-9a72-451d-aab7-9a2fb3d382ff",
   "metadata": {},
   "source": [
    "## High-level aggregations:\n",
    "\n",
    "- top Manufacturers\n"
   ]
  },
  {
   "cell_type": "code",
   "execution_count": 7,
   "id": "13134417-febb-4562-9f92-2a40933a8e5a",
   "metadata": {},
   "outputs": [
    {
     "data": {
      "text/plain": [
       "TCCC              930\n",
       "GRUPO PENAFIEL    348\n",
       "PEPSICO           310\n",
       "AGA DE MEXICO     226\n",
       "DANONE            167\n",
       "Name: Manufacturer, dtype: int64"
      ]
     },
     "execution_count": 7,
     "metadata": {},
     "output_type": "execute_result"
    }
   ],
   "source": [
    "df['Manufacturer'].value_counts().head()"
   ]
  },
  {
   "cell_type": "markdown",
   "id": "44526968-662c-46de-96a8-c6b458121f00",
   "metadata": {},
   "source": [
    "- top Brands by Volume and Manufacturer\n"
   ]
  },
  {
   "cell_type": "code",
   "execution_count": 9,
   "id": "9ce1a1b2-edd9-4d18-af18-36cb6310db1c",
   "metadata": {},
   "outputs": [
    {
     "data": {
      "text/plain": [
       "BONAFONT                     167\n",
       "COCA COLA                    118\n",
       "AGGREGATED                   103\n",
       "OTHERS MARCA UNIF            102\n",
       "JARRITOS                      94\n",
       "                            ... \n",
       "TEHUACAN BRILLANTE             3\n",
       "SIDRAL MUNDET LIGHT TCCEC      3\n",
       "OASIS                          2\n",
       "ZAMBA                          1\n",
       "E-PURA BEBE                    1\n",
       "Name: Brand, Length: 123, dtype: int64"
      ]
     },
     "execution_count": 9,
     "metadata": {},
     "output_type": "execute_result"
    }
   ],
   "source": [
    "df['Brand'].value_counts()"
   ]
  },
  {
   "cell_type": "markdown",
   "id": "01b4d546-4887-4906-a979-49abb3b7913e",
   "metadata": {},
   "source": [
    "\n",
    "- top Categories by Volume\n"
   ]
  },
  {
   "cell_type": "code",
   "execution_count": 15,
   "id": "468d1403-f4b4-4aee-b1c8-55181b22d35b",
   "metadata": {},
   "outputs": [
    {
     "data": {
      "text/html": [
       "<div>\n",
       "<style scoped>\n",
       "    .dataframe tbody tr th:only-of-type {\n",
       "        vertical-align: middle;\n",
       "    }\n",
       "\n",
       "    .dataframe tbody tr th {\n",
       "        vertical-align: top;\n",
       "    }\n",
       "\n",
       "    .dataframe thead th {\n",
       "        text-align: right;\n",
       "    }\n",
       "</style>\n",
       "<table border=\"1\" class=\"dataframe\">\n",
       "  <thead>\n",
       "    <tr style=\"text-align: right;\">\n",
       "      <th></th>\n",
       "      <th>Category</th>\n",
       "      <th>Volume</th>\n",
       "    </tr>\n",
       "  </thead>\n",
       "  <tbody>\n",
       "    <tr>\n",
       "      <th>7</th>\n",
       "      <td>COLAS</td>\n",
       "      <td>1.107281e+09</td>\n",
       "    </tr>\n",
       "    <tr>\n",
       "      <th>2</th>\n",
       "      <td>AGUA EMBOTELLADA</td>\n",
       "      <td>6.580332e+07</td>\n",
       "    </tr>\n",
       "    <tr>\n",
       "      <th>12</th>\n",
       "      <td>R. FRUTALES</td>\n",
       "      <td>6.289466e+07</td>\n",
       "    </tr>\n",
       "    <tr>\n",
       "      <th>10</th>\n",
       "      <td>NARANJADAS</td>\n",
       "      <td>1.349067e+07</td>\n",
       "    </tr>\n",
       "    <tr>\n",
       "      <th>3</th>\n",
       "      <td>AGUA MINERAL NATURAL</td>\n",
       "      <td>7.764272e+06</td>\n",
       "    </tr>\n",
       "  </tbody>\n",
       "</table>\n",
       "</div>"
      ],
      "text/plain": [
       "                Category        Volume\n",
       "7                  COLAS  1.107281e+09\n",
       "2       AGUA EMBOTELLADA  6.580332e+07\n",
       "12           R. FRUTALES  6.289466e+07\n",
       "10            NARANJADAS  1.349067e+07\n",
       "3   AGUA MINERAL NATURAL  7.764272e+06"
      ]
     },
     "execution_count": 15,
     "metadata": {},
     "output_type": "execute_result"
    }
   ],
   "source": [
    "categ = df.groupby('Category').agg({'Volume': 'sum'}).reset_index().sort_values(by='Volume', ascending=False)\n",
    "categ.head()"
   ]
  },
  {
   "cell_type": "markdown",
   "id": "32c5e739-5c9c-403e-8301-c3fab754bf02",
   "metadata": {},
   "source": [
    "\n",
    "- top Brand PackSize by Channel and Manufacturer by Volume for all, by Revenue for TCCC"
   ]
  },
  {
   "cell_type": "code",
   "execution_count": null,
   "id": "047ed6f0-7ac8-408b-8733-41594ccef4d6",
   "metadata": {},
   "outputs": [],
   "source": []
  },
  {
   "cell_type": "markdown",
   "id": "a9b0ab92-e045-4fb2-97a3-cc5a25f32140",
   "metadata": {},
   "source": [
    "## Competitor selection:\n",
    "\n",
    "- for the top 3 TCCC brands: the top 3 SKUs from each brand present the most suitable competitor SKU.\n",
    "Describe what criteria are used to define competitor SKU and why. How do TCCC SKUs perform in contrast to competitor SKUs?"
   ]
  },
  {
   "cell_type": "code",
   "execution_count": null,
   "id": "701e2bf0-a4d4-4399-9862-134a214829ab",
   "metadata": {},
   "outputs": [],
   "source": []
  },
  {
   "cell_type": "markdown",
   "id": "d5a3fa80-6248-4ebc-9689-a5b7348b27de",
   "metadata": {},
   "source": [
    "## Product Performance:\n",
    "\n",
    "- what are the key products that must always be presented in the store to avoid loss of sales? (Hist Exit Rates)\n"
   ]
  },
  {
   "cell_type": "code",
   "execution_count": null,
   "id": "ed2a0507-29cb-4baa-9353-ee2c9d4d5eae",
   "metadata": {},
   "outputs": [],
   "source": []
  },
  {
   "cell_type": "markdown",
   "id": "4738ea77-ecd0-447f-bd1d-458c471ddab8",
   "metadata": {},
   "source": [
    "\n",
    "- what are the key products for which price change can lead to an unprofitable loss of sales? (Hint: Elasticity)"
   ]
  },
  {
   "cell_type": "code",
   "execution_count": null,
   "id": "3c697f2b-e2cd-4cd1-9533-2612df5e0300",
   "metadata": {},
   "outputs": [],
   "source": []
  }
 ],
 "metadata": {
  "kernelspec": {
   "display_name": "Python 3",
   "language": "python",
   "name": "python3"
  },
  "language_info": {
   "codemirror_mode": {
    "name": "ipython",
    "version": 3
   },
   "file_extension": ".py",
   "mimetype": "text/x-python",
   "name": "python",
   "nbconvert_exporter": "python",
   "pygments_lexer": "ipython3",
   "version": "3.8.8"
  }
 },
 "nbformat": 4,
 "nbformat_minor": 5
}
